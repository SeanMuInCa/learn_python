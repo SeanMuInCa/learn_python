{
  "nbformat": 4,
  "nbformat_minor": 0,
  "metadata": {
    "colab": {
      "provenance": [],
      "authorship_tag": "ABX9TyOqV8kEd68gPejcO7Opbrp3",
      "include_colab_link": true
    },
    "kernelspec": {
      "name": "python3",
      "display_name": "Python 3"
    },
    "language_info": {
      "name": "python"
    }
  },
  "cells": [
    {
      "cell_type": "markdown",
      "metadata": {
        "id": "view-in-github",
        "colab_type": "text"
      },
      "source": [
        "<a href=\"https://colab.research.google.com/github/SeanMuInCa/learn_python/blob/master/Untitled8.ipynb\" target=\"_parent\"><img src=\"https://colab.research.google.com/assets/colab-badge.svg\" alt=\"Open In Colab\"/></a>"
      ]
    },
    {
      "cell_type": "code",
      "execution_count": 1,
      "metadata": {
        "colab": {
          "base_uri": "https://localhost:8080/",
          "height": 1000
        },
        "id": "rBHg3x0IvXrJ",
        "outputId": "7ea4423d-f59a-4f0e-e1bc-6c2584533ac1"
      },
      "outputs": [
        {
          "output_type": "stream",
          "name": "stdout",
          "text": [
            "Downloading from https://www.kaggle.com/api/v1/datasets/download/amalistmsc/liar-dataset?dataset_version_number=1...\n"
          ]
        },
        {
          "output_type": "stream",
          "name": "stderr",
          "text": [
            "100%|██████████| 0.99M/0.99M [00:00<00:00, 19.3MB/s]"
          ]
        },
        {
          "output_type": "stream",
          "name": "stdout",
          "text": [
            "Extracting files...\n",
            "Path to dataset files: /root/.cache/kagglehub/datasets/amalistmsc/liar-dataset/versions/1\n"
          ]
        },
        {
          "output_type": "stream",
          "name": "stderr",
          "text": [
            "\n"
          ]
        },
        {
          "output_type": "stream",
          "name": "stdout",
          "text": [
            "朴素贝叶斯模型测试集准确率: 0.2344\n",
            "\n",
            "分类报告（Naive Bayes）:\n",
            "               precision    recall  f1-score   support\n",
            "\n",
            "           0       0.23      0.28      0.25       249\n",
            "           1       0.22      0.09      0.13       208\n",
            "           2       0.28      0.11      0.16       212\n",
            "           3       0.23      0.40      0.29       265\n",
            "           4       0.25      0.32      0.28       241\n",
            "           5       0.00      0.00      0.00        92\n",
            "\n",
            "    accuracy                           0.23      1267\n",
            "   macro avg       0.20      0.20      0.19      1267\n",
            "weighted avg       0.22      0.23      0.21      1267\n",
            "\n",
            "XGBoost 模型测试集准确率: 0.2549\n",
            "\n",
            "分类报告（XGBoost）:\n",
            "               precision    recall  f1-score   support\n",
            "\n",
            "           0       0.25      0.36      0.29       249\n",
            "           1       0.29      0.22      0.25       208\n",
            "           2       0.26      0.17      0.20       212\n",
            "           3       0.25      0.31      0.28       265\n",
            "           4       0.25      0.27      0.26       241\n",
            "           5       0.24      0.07      0.10        92\n",
            "\n",
            "    accuracy                           0.25      1267\n",
            "   macro avg       0.26      0.23      0.23      1267\n",
            "weighted avg       0.26      0.25      0.25      1267\n",
            "\n"
          ]
        },
        {
          "output_type": "stream",
          "name": "stderr",
          "text": [
            "<ipython-input-1-5c8d73d19b35>:83: FutureWarning: \n",
            "\n",
            "Passing `palette` without assigning `hue` is deprecated and will be removed in v0.14.0. Assign the `x` variable to `hue` and set `legend=False` for the same effect.\n",
            "\n",
            "  sns.countplot(data=train_df, x='label', palette='viridis')\n",
            "/usr/local/lib/python3.11/dist-packages/IPython/core/pylabtools.py:151: UserWarning: Glyph 35757 (\\N{CJK UNIFIED IDEOGRAPH-8BAD}) missing from font(s) DejaVu Sans.\n",
            "  fig.canvas.print_figure(bytes_io, **kw)\n",
            "/usr/local/lib/python3.11/dist-packages/IPython/core/pylabtools.py:151: UserWarning: Glyph 32451 (\\N{CJK UNIFIED IDEOGRAPH-7EC3}) missing from font(s) DejaVu Sans.\n",
            "  fig.canvas.print_figure(bytes_io, **kw)\n",
            "/usr/local/lib/python3.11/dist-packages/IPython/core/pylabtools.py:151: UserWarning: Glyph 25968 (\\N{CJK UNIFIED IDEOGRAPH-6570}) missing from font(s) DejaVu Sans.\n",
            "  fig.canvas.print_figure(bytes_io, **kw)\n",
            "/usr/local/lib/python3.11/dist-packages/IPython/core/pylabtools.py:151: UserWarning: Glyph 25454 (\\N{CJK UNIFIED IDEOGRAPH-636E}) missing from font(s) DejaVu Sans.\n",
            "  fig.canvas.print_figure(bytes_io, **kw)\n",
            "/usr/local/lib/python3.11/dist-packages/IPython/core/pylabtools.py:151: UserWarning: Glyph 38598 (\\N{CJK UNIFIED IDEOGRAPH-96C6}) missing from font(s) DejaVu Sans.\n",
            "  fig.canvas.print_figure(bytes_io, **kw)\n",
            "/usr/local/lib/python3.11/dist-packages/IPython/core/pylabtools.py:151: UserWarning: Glyph 30340 (\\N{CJK UNIFIED IDEOGRAPH-7684}) missing from font(s) DejaVu Sans.\n",
            "  fig.canvas.print_figure(bytes_io, **kw)\n",
            "/usr/local/lib/python3.11/dist-packages/IPython/core/pylabtools.py:151: UserWarning: Glyph 31867 (\\N{CJK UNIFIED IDEOGRAPH-7C7B}) missing from font(s) DejaVu Sans.\n",
            "  fig.canvas.print_figure(bytes_io, **kw)\n",
            "/usr/local/lib/python3.11/dist-packages/IPython/core/pylabtools.py:151: UserWarning: Glyph 21035 (\\N{CJK UNIFIED IDEOGRAPH-522B}) missing from font(s) DejaVu Sans.\n",
            "  fig.canvas.print_figure(bytes_io, **kw)\n",
            "/usr/local/lib/python3.11/dist-packages/IPython/core/pylabtools.py:151: UserWarning: Glyph 20998 (\\N{CJK UNIFIED IDEOGRAPH-5206}) missing from font(s) DejaVu Sans.\n",
            "  fig.canvas.print_figure(bytes_io, **kw)\n",
            "/usr/local/lib/python3.11/dist-packages/IPython/core/pylabtools.py:151: UserWarning: Glyph 24067 (\\N{CJK UNIFIED IDEOGRAPH-5E03}) missing from font(s) DejaVu Sans.\n",
            "  fig.canvas.print_figure(bytes_io, **kw)\n"
          ]
        },
        {
          "output_type": "display_data",
          "data": {
            "text/plain": [
              "<Figure size 1000x500 with 1 Axes>"
            ],
            "image/png": "[encoded data removed]"
          },
          "metadata": {}
        }
      ],
      "source": [
        "# === 1️⃣ 导入必要的库 ===\n",
        "import pandas as pd\n",
        "import numpy as np\n",
        "import re\n",
        "import spacy\n",
        "import seaborn as sns\n",
        "import matplotlib.pyplot as plt\n",
        "from sklearn.model_selection import train_test_split\n",
        "from sklearn.preprocessing import LabelEncoder\n",
        "from sklearn.feature_extraction.text import TfidfVectorizer\n",
        "from sklearn.naive_bayes import MultinomialNB\n",
        "from xgboost import XGBClassifier\n",
        "from sklearn.metrics import accuracy_score, classification_report\n",
        "\n",
        "import kagglehub\n",
        "\n",
        "# Download latest version\n",
        "path = kagglehub.dataset_download(\"amalistmsc/liar-dataset\")\n",
        "\n",
        "print(\"Path to dataset files:\", path)\n",
        "train_df = pd.read_csv(path + '/train1.csv')\n",
        "test_df = pd.read_csv(path + '/test1.csv')\n",
        "valid_df = pd.read_csv(path + '/valid1.csv')\n",
        "\n",
        "# 只保留重要的列\n",
        "columns_to_keep = ['statement', 'label']\n",
        "train_df = train_df[columns_to_keep]\n",
        "test_df = test_df[columns_to_keep]\n",
        "valid_df = valid_df[columns_to_keep]\n",
        "\n",
        "# === 3️⃣ 数据预处理 ===\n",
        "nlp = spacy.load(\"en_core_web_sm\")\n",
        "\n",
        "def clean_text(text):\n",
        "    \"\"\" 清理文本（去除停用词、标点、词干化） \"\"\"\n",
        "    doc = nlp(text.lower())  # 转换为小写\n",
        "    words = [token.lemma_ for token in doc if not token.is_stop and token.is_alpha]  # 词干化、去除停用词\n",
        "    return \" \".join(words)\n",
        "\n",
        "# 处理文本\n",
        "train_df['clean_statement'] = train_df['statement'].apply(clean_text)\n",
        "test_df['clean_statement'] = test_df['statement'].apply(clean_text)\n",
        "valid_df['clean_statement'] = valid_df['statement'].apply(clean_text)\n",
        "\n",
        "# === 4️⃣ 标签编码（将文本标签转换为数值） ===\n",
        "label_encoder = LabelEncoder()\n",
        "train_df['label_encoded'] = label_encoder.fit_transform(train_df['label'])\n",
        "test_df['label_encoded'] = label_encoder.transform(test_df['label'])\n",
        "valid_df['label_encoded'] = label_encoder.transform(valid_df['label'])\n",
        "\n",
        "# === 5️⃣ 文本向量化（TF-IDF） ===\n",
        "vectorizer = TfidfVectorizer(max_features=5000)  # 选取前 5000 个最常见单词\n",
        "X_train = vectorizer.fit_transform(train_df['clean_statement'])\n",
        "X_test = vectorizer.transform(test_df['clean_statement'])\n",
        "X_valid = vectorizer.transform(valid_df['clean_statement'])\n",
        "\n",
        "y_train = train_df['label_encoded']\n",
        "y_test = test_df['label_encoded']\n",
        "y_valid = valid_df['label_encoded']\n",
        "\n",
        "# === 6️⃣ 朴素贝叶斯（Naive Bayes） ===\n",
        "nb_clf = MultinomialNB()\n",
        "nb_clf.fit(X_train, y_train)\n",
        "y_pred_nb = nb_clf.predict(X_test)\n",
        "\n",
        "# 评估\n",
        "accuracy_nb = accuracy_score(y_test, y_pred_nb)\n",
        "print(f\"朴素贝叶斯模型测试集准确率: {accuracy_nb:.4f}\")\n",
        "print(\"\\n分类报告（Naive Bayes）:\\n\", classification_report(y_test, y_pred_nb))\n",
        "\n",
        "# === 7️⃣ XGBoost 分类器 ===\n",
        "xgb_clf = XGBClassifier(n_estimators=300, learning_rate=0.1, max_depth=6, random_state=42, n_jobs=-1)\n",
        "xgb_clf.fit(X_train, y_train)\n",
        "y_pred_xgb = xgb_clf.predict(X_test)\n",
        "\n",
        "# 评估\n",
        "accuracy_xgb = accuracy_score(y_test, y_pred_xgb)\n",
        "print(f\"XGBoost 模型测试集准确率: {accuracy_xgb:.4f}\")\n",
        "print(\"\\n分类报告（XGBoost）:\\n\", classification_report(y_test, y_pred_xgb))\n",
        "\n",
        "# === 8️⃣ 结果可视化 ===\n",
        "plt.figure(figsize=(10,5))\n",
        "sns.countplot(data=train_df, x='label', palette='viridis')\n",
        "plt.title('训练数据集的类别分布')\n",
        "plt.xticks(rotation=45)\n",
        "plt.show()\n"
      ]
    }
  ]
}