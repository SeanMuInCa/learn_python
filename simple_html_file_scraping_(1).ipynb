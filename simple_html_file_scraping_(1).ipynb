{
  "cells": [
    {
      "cell_type": "markdown",
      "metadata": {
        "id": "view-in-github",
        "colab_type": "text"
      },
      "source": [
        "<a href=\"https://colab.research.google.com/github/SeanMuInCa/learn_python/blob/master/simple_html_file_scraping_(1).ipynb\" target=\"_parent\"><img src=\"https://colab.research.google.com/assets/colab-badge.svg\" alt=\"Open In Colab\"/></a>"
      ]
    },
    {
      "cell_type": "markdown",
      "metadata": {
        "id": "rPq6ly7DBvB9"
      },
      "source": [
        "# Beautiful Soup\n",
        "\n",
        "Beautiful Soup is a python module designed to help you easily pull information out of an HTML document or string.\n",
        "\n",
        "Ideally, all of the information we could like to get from the web would be readily available as JSON via a REST API.  Alas, this is not the case - much of the info is presented as HTML which is a pain to parse and get data out of.  This is where Beautiful Soup comes in...\n",
        "\n",
        "HTML basic:https://www.w3schools.com/html/html_basic.asp\n",
        "\n"
      ]
    },
    {
      "cell_type": "code",
      "execution_count": null,
      "metadata": {
        "id": "VttqnoR_BvCA"
      },
      "outputs": [],
      "source": [
        "import requests\n",
        "from bs4 import BeautifulSoup\n",
        "import csv"
      ]
    },
    {
      "cell_type": "code",
      "source": [
        "with open('simple.html') as html_file:\n",
        "  soup= BeautifulSoup(html_file, 'lxml')\n",
        "\n",
        "print(soup)"
      ],
      "metadata": {
        "colab": {
          "base_uri": "https://localhost:8080/"
        },
        "id": "S0LUvpAcdvkG",
        "outputId": "a0d5609e-325f-4410-99b9-a68ce3137c1b"
      },
      "execution_count": null,
      "outputs": [
        {
          "output_type": "stream",
          "name": "stdout",
          "text": [
            "<!DOCTYPE html>\n",
            "<html class=\"no-js\" lang=\"\">\n",
            "<head>\n",
            "<title>Test - A Sample Website</title>\n",
            "<meta charset=\"utf-8\"/>\n",
            "<link href=\"css/normalize.css\" rel=\"stylesheet\"/>\n",
            "<link href=\"css/main.css\" rel=\"stylesheet\"/>\n",
            "</head>\n",
            "<body>\n",
            "<h1 id=\"site_title\">Test Website</h1>\n",
            "<hr/>\n",
            "<div class=\"article\">\n",
            "<h2><a href=\"article_1.html\">Article 1 Headline</a></h2>\n",
            "<p>This is a summary of article 1</p>\n",
            "</div>\n",
            "<hr/>\n",
            "<div class=\"article\">\n",
            "<h2><a href=\"article_2.html\">Article 2 Headline</a></h2>\n",
            "<p>This is a summary of article 2</p>\n",
            "</div>\n",
            "<hr/>\n",
            "<div class=\"footer\">\n",
            "<p>Footer Information</p>\n",
            "</div>\n",
            "<script src=\"js/vendor/modernizr-3.5.0.min.js\"></script>\n",
            "<script src=\"js/plugins.js\"></script>\n",
            "<script src=\"js/main.js\"></script>\n",
            "</body>\n",
            "</html>\n"
          ]
        }
      ]
    },
    {
      "cell_type": "code",
      "source": [
        "print(soup.prettify())"
      ],
      "metadata": {
        "colab": {
          "base_uri": "https://localhost:8080/"
        },
        "id": "VEQYRt-TdvhS",
        "outputId": "ff2e43a1-4f52-47c0-a4dd-251e914ca4af"
      },
      "execution_count": null,
      "outputs": [
        {
          "output_type": "stream",
          "name": "stdout",
          "text": [
            "<!DOCTYPE html>\n",
            "<html class=\"no-js\" lang=\"\">\n",
            " <head>\n",
            "  <title>\n",
            "   Test - A Sample Website\n",
            "  </title>\n",
            "  <meta charset=\"utf-8\"/>\n",
            "  <link href=\"css/normalize.css\" rel=\"stylesheet\"/>\n",
            "  <link href=\"css/main.css\" rel=\"stylesheet\"/>\n",
            " </head>\n",
            " <body>\n",
            "  <h1 id=\"site_title\">\n",
            "   Test Website\n",
            "  </h1>\n",
            "  <hr/>\n",
            "  <div class=\"article\">\n",
            "   <h2>\n",
            "    <a href=\"article_1.html\">\n",
            "     Article 1 Headline\n",
            "    </a>\n",
            "   </h2>\n",
            "   <p>\n",
            "    This is a summary of article 1\n",
            "   </p>\n",
            "  </div>\n",
            "  <hr/>\n",
            "  <div class=\"article\">\n",
            "   <h2>\n",
            "    <a href=\"article_2.html\">\n",
            "     Article 2 Headline\n",
            "    </a>\n",
            "   </h2>\n",
            "   <p>\n",
            "    This is a summary of article 2\n",
            "   </p>\n",
            "  </div>\n",
            "  <hr/>\n",
            "  <div class=\"footer\">\n",
            "   <p>\n",
            "    Footer Information\n",
            "   </p>\n",
            "  </div>\n",
            "  <script src=\"js/vendor/modernizr-3.5.0.min.js\">\n",
            "  </script>\n",
            "  <script src=\"js/plugins.js\">\n",
            "  </script>\n",
            "  <script src=\"js/main.js\">\n",
            "  </script>\n",
            " </body>\n",
            "</html>\n",
            "\n"
          ]
        }
      ]
    },
    {
      "cell_type": "code",
      "source": [
        "match=soup.title\n",
        "print(match)"
      ],
      "metadata": {
        "colab": {
          "base_uri": "https://localhost:8080/"
        },
        "id": "_R9f7O-xdvcI",
        "outputId": "3253ca99-98bf-41e1-b700-9c33f30c2070"
      },
      "execution_count": null,
      "outputs": [
        {
          "output_type": "stream",
          "name": "stdout",
          "text": [
            "<title>Test - A Sample Website</title>\n"
          ]
        }
      ]
    },
    {
      "cell_type": "code",
      "source": [
        "match=soup.title.text\n",
        "print(match)"
      ],
      "metadata": {
        "colab": {
          "base_uri": "https://localhost:8080/"
        },
        "id": "xDVZcQOLdvZd",
        "outputId": "ac570ee3-5c4a-464d-c405-4fb4e28280ea"
      },
      "execution_count": null,
      "outputs": [
        {
          "output_type": "stream",
          "name": "stdout",
          "text": [
            "Test - A Sample Website\n"
          ]
        }
      ]
    },
    {
      "cell_type": "markdown",
      "source": [
        "#try yourself\n",
        "1.match=soup.div\n",
        "2.match=soup.find('div')\n",
        "3.match=soup.find('div',class_='_footer_')\n"
      ],
      "metadata": {
        "id": "5dHjHXTDe1lm"
      }
    },
    {
      "cell_type": "code",
      "source": [
        "article=soup.find('div',class_='article')\n",
        "print(article)"
      ],
      "metadata": {
        "colab": {
          "base_uri": "https://localhost:8080/"
        },
        "id": "-P2ChnM7dvWw",
        "outputId": "13901a9c-cfc1-400a-da88-c410e71a0929"
      },
      "execution_count": null,
      "outputs": [
        {
          "output_type": "stream",
          "name": "stdout",
          "text": [
            "<div class=\"article\">\n",
            "<h2><a href=\"article_1.html\">Article 1 Headline</a></h2>\n",
            "<p>This is a summary of article 1</p>\n",
            "</div>\n"
          ]
        }
      ]
    },
    {
      "cell_type": "code",
      "source": [
        "headline=article.h2.a.text\n",
        "print(headline)"
      ],
      "metadata": {
        "colab": {
          "base_uri": "https://localhost:8080/"
        },
        "id": "AVp1Bnc1dvT_",
        "outputId": "7cb615db-8bae-408a-ec60-8ec25716d4e4"
      },
      "execution_count": null,
      "outputs": [
        {
          "output_type": "stream",
          "name": "stdout",
          "text": [
            "Article 1 Headline\n"
          ]
        }
      ]
    },
    {
      "cell_type": "code",
      "source": [
        "summary=article.p.text\n",
        "print(summary)"
      ],
      "metadata": {
        "colab": {
          "base_uri": "https://localhost:8080/"
        },
        "id": "EQcqzW6rAaVI",
        "outputId": "6acc5fcf-9f7b-47d7-d9c5-e6196cbad0f8"
      },
      "execution_count": null,
      "outputs": [
        {
          "output_type": "stream",
          "name": "stdout",
          "text": [
            "This is a summary of article 1\n"
          ]
        }
      ]
    },
    {
      "cell_type": "code",
      "source": [
        "for article in soup.find_all('div', class_='article'):\n",
        "  headline=article.h2.a.text\n",
        "  print(headline)\n",
        "\n",
        "  summary=article.p.text\n",
        "  print(summary)\n",
        "\n",
        "  print()\n"
      ],
      "metadata": {
        "colab": {
          "base_uri": "https://localhost:8080/"
        },
        "id": "hgs6OTGIdvIO",
        "outputId": "8c4df9ef-676d-4631-ca74-37ce4e4d2b61"
      },
      "execution_count": null,
      "outputs": [
        {
          "output_type": "stream",
          "name": "stdout",
          "text": [
            "Article 1 Headline\n",
            "This is a summary of article 1\n",
            "\n",
            "Article 2 Headline\n",
            "This is a summary of article 2\n",
            "\n"
          ]
        }
      ]
    }
  ],
  "metadata": {
    "kernelspec": {
      "display_name": "Python 3",
      "language": "python",
      "name": "python3"
    },
    "language_info": {
      "codemirror_mode": {
        "name": "ipython",
        "version": 3
      },
      "file_extension": ".py",
      "mimetype": "text/x-python",
      "name": "python",
      "nbconvert_exporter": "python",
      "pygments_lexer": "ipython3",
      "version": "3.6.9"
    },
    "colab": {
      "provenance": [],
      "include_colab_link": true
    }
  },
  "nbformat": 4,
  "nbformat_minor": 0
}