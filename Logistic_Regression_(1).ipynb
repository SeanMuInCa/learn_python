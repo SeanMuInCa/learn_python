{
  "cells": [
    {
      "cell_type": "markdown",
      "metadata": {
        "id": "view-in-github",
        "colab_type": "text"
      },
      "source": [
        "<a href=\"https://colab.research.google.com/github/SeanMuInCa/learn_python/blob/master/Logistic_Regression_(1).ipynb\" target=\"_parent\"><img src=\"https://colab.research.google.com/assets/colab-badge.svg\" alt=\"Open In Colab\"/></a>"
      ]
    },
    {
      "cell_type": "code",
      "execution_count": null,
      "id": "32f95370",
      "metadata": {
        "id": "32f95370"
      },
      "outputs": [],
      "source": [
        "import pandas as pd\n",
        "import numpy as np\n",
        "import matplotlib.pyplot as plt\n",
        "import seaborn as sns\n",
        "from sklearn.model_selection import train_test_split\n",
        "from sklearn.preprocessing import StandardScaler\n",
        "from sklearn.linear_model import LogisticRegression\n",
        "from sklearn.neighbors import KNeighborsClassifier\n",
        "from sklearn.metrics import accuracy_score, classification_report\n",
        "from sklearn.decomposition import PCA"
      ]
    },
    {
      "cell_type": "code",
      "source": [
        "# Step 1: Load the dataset\n",
        "data = pd.read_csv(\"diabetes.csv\")\n",
        "\n",
        "# Explore dataset\n",
        "print(data.head())\n",
        "print(data.info())\n",
        "print(data.describe())\n",
        "\n",
        "# Check for missing values\n",
        "print(data.isnull().sum())"
      ],
      "metadata": {
        "colab": {
          "base_uri": "https://localhost:8080/"
        },
        "id": "0z0nX2BoeqUt",
        "outputId": "5badbc17-e192-4f3e-96ae-295b56797c64"
      },
      "id": "0z0nX2BoeqUt",
      "execution_count": null,
      "outputs": [
        {
          "output_type": "stream",
          "name": "stdout",
          "text": [
            "   Pregnancies  Glucose  BloodPressure  SkinThickness  Insulin   BMI  \\\n",
            "0            6      148             72             35        0  33.6   \n",
            "1            1       85             66             29        0  26.6   \n",
            "2            8      183             64              0        0  23.3   \n",
            "3            1       89             66             23       94  28.1   \n",
            "4            0      137             40             35      168  43.1   \n",
            "\n",
            "   DiabetesPedigreeFunction  Age  Outcome  \n",
            "0                     0.627   50        1  \n",
            "1                     0.351   31        0  \n",
            "2                     0.672   32        1  \n",
            "3                     0.167   21        0  \n",
            "4                     2.288   33        1  \n",
            "<class 'pandas.core.frame.DataFrame'>\n",
            "RangeIndex: 768 entries, 0 to 767\n",
            "Data columns (total 9 columns):\n",
            " #   Column                    Non-Null Count  Dtype  \n",
            "---  ------                    --------------  -----  \n",
            " 0   Pregnancies               768 non-null    int64  \n",
            " 1   Glucose                   768 non-null    int64  \n",
            " 2   BloodPressure             768 non-null    int64  \n",
            " 3   SkinThickness             768 non-null    int64  \n",
            " 4   Insulin                   768 non-null    int64  \n",
            " 5   BMI                       768 non-null    float64\n",
            " 6   DiabetesPedigreeFunction  768 non-null    float64\n",
            " 7   Age                       768 non-null    int64  \n",
            " 8   Outcome                   768 non-null    int64  \n",
            "dtypes: float64(2), int64(7)\n",
            "memory usage: 54.1 KB\n",
            "None\n",
            "       Pregnancies     Glucose  BloodPressure  SkinThickness     Insulin  \\\n",
            "count   768.000000  768.000000     768.000000     768.000000  768.000000   \n",
            "mean      3.845052  120.894531      69.105469      20.536458   79.799479   \n",
            "std       3.369578   31.972618      19.355807      15.952218  115.244002   \n",
            "min       0.000000    0.000000       0.000000       0.000000    0.000000   \n",
            "25%       1.000000   99.000000      62.000000       0.000000    0.000000   \n",
            "50%       3.000000  117.000000      72.000000      23.000000   30.500000   \n",
            "75%       6.000000  140.250000      80.000000      32.000000  127.250000   \n",
            "max      17.000000  199.000000     122.000000      99.000000  846.000000   \n",
            "\n",
            "              BMI  DiabetesPedigreeFunction         Age     Outcome  \n",
            "count  768.000000                768.000000  768.000000  768.000000  \n",
            "mean    31.992578                  0.471876   33.240885    0.348958  \n",
            "std      7.884160                  0.331329   11.760232    0.476951  \n",
            "min      0.000000                  0.078000   21.000000    0.000000  \n",
            "25%     27.300000                  0.243750   24.000000    0.000000  \n",
            "50%     32.000000                  0.372500   29.000000    0.000000  \n",
            "75%     36.600000                  0.626250   41.000000    1.000000  \n",
            "max     67.100000                  2.420000   81.000000    1.000000  \n",
            "Pregnancies                 0\n",
            "Glucose                     0\n",
            "BloodPressure               0\n",
            "SkinThickness               0\n",
            "Insulin                     0\n",
            "BMI                         0\n",
            "DiabetesPedigreeFunction    0\n",
            "Age                         0\n",
            "Outcome                     0\n",
            "dtype: int64\n"
          ]
        }
      ]
    },
    {
      "cell_type": "code",
      "source": [
        "# Step 2: Split data into features and target\n",
        "X = data.drop(columns=[\"Outcome\"])\n",
        "y = data[\"Outcome\"]\n",
        "\n",
        "# Standardize features\n",
        "scaler = StandardScaler()\n",
        "X_scaled = scaler.fit_transform(X)\n",
        "\n",
        "# Split dataset into training and testing sets\n",
        "X_train, X_test, y_train, y_test = train_test_split(X_scaled, y, test_size=0.2, random_state=42)"
      ],
      "metadata": {
        "id": "YKcONFF7etq9"
      },
      "id": "YKcONFF7etq9",
      "execution_count": null,
      "outputs": []
    },
    {
      "cell_type": "code",
      "source": [
        "# Step 3: Feature Selection using Logistic Regression with L1 regularization\n",
        "logreg_l1 = LogisticRegression(penalty='l1', solver='liblinear', C=0.1)\n",
        "logreg_l1.fit(X_train, y_train)\n",
        "\n",
        "# Identify important features\n",
        "feature_importance = np.abs(logreg_l1.coef_).flatten()\n",
        "selected_features = X.columns[feature_importance > 0]\n",
        "print(\"Selected Features:\", selected_features)\n",
        "\n",
        "# Filter dataset with selected features\n",
        "X_train_selected = X_train[:, feature_importance > 0]\n",
        "X_test_selected = X_test[:, feature_importance > 0]"
      ],
      "metadata": {
        "colab": {
          "base_uri": "https://localhost:8080/"
        },
        "id": "qstdE6ZyewD9",
        "outputId": "c5f05ef6-1ec2-422f-e5bb-3679622d875a"
      },
      "id": "qstdE6ZyewD9",
      "execution_count": null,
      "outputs": [
        {
          "output_type": "stream",
          "name": "stdout",
          "text": [
            "Selected Features: Index(['Pregnancies', 'Glucose', 'BloodPressure', 'Insulin', 'BMI',\n",
            "       'DiabetesPedigreeFunction', 'Age'],\n",
            "      dtype='object')\n"
          ]
        }
      ]
    },
    {
      "cell_type": "code",
      "source": [
        "# Step 4: Train models with selected features\n",
        "knn = KNeighborsClassifier(n_neighbors=7)\n",
        "logreg = LogisticRegression()\n",
        "\n",
        "knn.fit(X_train_selected, y_train)\n",
        "logreg.fit(X_train_selected, y_train)\n",
        "\n",
        "# Predictions and evaluation\n",
        "knn_pred = knn.predict(X_test_selected)\n",
        "logreg_pred = logreg.predict(X_test_selected)\n",
        "\n",
        "print(\"KNN Performance with Selected Features:\")\n",
        "print(classification_report(y_test, knn_pred))\n",
        "print(\"Logistic Regression Performance with Selected Features:\")\n",
        "print(classification_report(y_test, logreg_pred))"
      ],
      "metadata": {
        "colab": {
          "base_uri": "https://localhost:8080/"
        },
        "id": "TbB8CjQnex9V",
        "outputId": "6ed38f51-0f93-451a-ccfe-5a1bed703441"
      },
      "id": "TbB8CjQnex9V",
      "execution_count": null,
      "outputs": [
        {
          "output_type": "stream",
          "name": "stdout",
          "text": [
            "KNN Performance with Selected Features:\n",
            "              precision    recall  f1-score   support\n",
            "\n",
            "           0       0.78      0.82      0.80        99\n",
            "           1       0.64      0.58      0.61        55\n",
            "\n",
            "    accuracy                           0.73       154\n",
            "   macro avg       0.71      0.70      0.70       154\n",
            "weighted avg       0.73      0.73      0.73       154\n",
            "\n",
            "Logistic Regression Performance with Selected Features:\n",
            "              precision    recall  f1-score   support\n",
            "\n",
            "           0       0.81      0.80      0.81        99\n",
            "           1       0.65      0.67      0.66        55\n",
            "\n",
            "    accuracy                           0.75       154\n",
            "   macro avg       0.73      0.74      0.73       154\n",
            "weighted avg       0.76      0.75      0.75       154\n",
            "\n"
          ]
        }
      ]
    },
    {
      "cell_type": "code",
      "source": [
        "# Step 5: Train models with all features for comparison\n",
        "knn.fit(X_train, y_train)\n",
        "logreg.fit(X_train, y_train)\n",
        "\n",
        "knn_pred_all = knn.predict(X_test)\n",
        "logreg_pred_all = logreg.predict(X_test)\n",
        "\n",
        "print(\"KNN Performance with All Features:\")\n",
        "print(classification_report(y_test, knn_pred_all))\n",
        "print(\"Logistic Regression Performance with All Features:\")\n",
        "print(classification_report(y_test, logreg_pred_all))"
      ],
      "metadata": {
        "colab": {
          "base_uri": "https://localhost:8080/"
        },
        "id": "QMgYBhNIezuc",
        "outputId": "76fcfa61-04a0-4fb8-ef77-031ab15cbcb0"
      },
      "id": "QMgYBhNIezuc",
      "execution_count": null,
      "outputs": [
        {
          "output_type": "stream",
          "name": "stdout",
          "text": [
            "KNN Performance with All Features:\n",
            "              precision    recall  f1-score   support\n",
            "\n",
            "           0       0.74      0.79      0.76        99\n",
            "           1       0.56      0.49      0.52        55\n",
            "\n",
            "    accuracy                           0.68       154\n",
            "   macro avg       0.65      0.64      0.64       154\n",
            "weighted avg       0.67      0.68      0.68       154\n",
            "\n",
            "Logistic Regression Performance with All Features:\n",
            "              precision    recall  f1-score   support\n",
            "\n",
            "           0       0.81      0.80      0.81        99\n",
            "           1       0.65      0.67      0.66        55\n",
            "\n",
            "    accuracy                           0.75       154\n",
            "   macro avg       0.73      0.74      0.73       154\n",
            "weighted avg       0.76      0.75      0.75       154\n",
            "\n"
          ]
        }
      ]
    },
    {
      "cell_type": "code",
      "source": [
        "# Determine the number of components that explain 95% of the variance\n",
        "pca = PCA(0.88)\n",
        "X_train_pca = pca.fit_transform(X_train)\n",
        "X_test_pca = pca.transform(X_test)\n",
        "\n",
        "print(f\"Number of components selected: {pca.n_components_}\")\n"
      ],
      "metadata": {
        "colab": {
          "base_uri": "https://localhost:8080/"
        },
        "id": "KiWGpk02k4Ui",
        "outputId": "882c3cc6-5cfc-4c57-eb2a-bbd7fa0cbed0"
      },
      "id": "KiWGpk02k4Ui",
      "execution_count": null,
      "outputs": [
        {
          "output_type": "stream",
          "name": "stdout",
          "text": [
            "Number of components selected: 6\n"
          ]
        }
      ]
    },
    {
      "cell_type": "code",
      "source": [
        "from sklearn.model_selection import GridSearchCV\n",
        "\n",
        "# Hyperparameter tuning for KNN with additional parameters\n",
        "param_grid_knn = {'n_neighbors': [5, 7, 9, 11]}\n",
        "grid_search_knn = GridSearchCV(KNeighborsClassifier(), param_grid_knn, cv=5, scoring='accuracy', n_jobs=-1, verbose=2)\n",
        "grid_search_knn.fit(X_train_pca, y_train)\n",
        "\n",
        "# Best parameters for KNN\n",
        "print(\"Best parameters for KNN:\", grid_search_knn.best_params_)\n",
        "\n",
        "# Hyperparameter tuning for Logistic Regression with additional parameters\n",
        "param_grid_logreg = {'C': [0.1, 1, 10, 100]}\n",
        "grid_search_logreg = GridSearchCV(LogisticRegression(max_iter=1000), param_grid_logreg, cv=5, scoring='accuracy', n_jobs=-1, verbose=2)\n",
        "grid_search_logreg.fit(X_train_pca, y_train)\n",
        "\n",
        "# Best parameters for Logistic Regression\n",
        "print(\"Best parameters for Logistic Regression:\", grid_search_logreg.best_params_)\n"
      ],
      "metadata": {
        "colab": {
          "base_uri": "https://localhost:8080/"
        },
        "id": "jiyL_LtSl0m0",
        "outputId": "1adfa652-ff80-4bd0-f9b4-d63bb4260c7a"
      },
      "id": "jiyL_LtSl0m0",
      "execution_count": null,
      "outputs": [
        {
          "output_type": "stream",
          "name": "stdout",
          "text": [
            "Fitting 5 folds for each of 4 candidates, totalling 20 fits\n",
            "Best parameters for KNN: {'n_neighbors': 9}\n",
            "Fitting 5 folds for each of 4 candidates, totalling 20 fits\n",
            "Best parameters for Logistic Regression: {'C': 0.1}\n"
          ]
        }
      ]
    },
    {
      "cell_type": "code",
      "source": [
        "# Train KNN with the best parameters\n",
        "knn_best = KNeighborsClassifier(n_neighbors=grid_search_knn.best_params_['n_neighbors'])\n",
        "knn_best.fit(X_train_pca, y_train)\n",
        "\n",
        "# Train Logistic Regression with the best parameters\n",
        "logreg_best = LogisticRegression(C=grid_search_logreg.best_params_['C'], max_iter=1000)\n",
        "logreg_best.fit(X_train_pca, y_train)\n",
        "\n",
        "# Predictions and evaluation\n",
        "knn_pred_pca = knn_best.predict(X_test_pca)\n",
        "logreg_pred_pca = logreg_best.predict(X_test_pca)\n",
        "\n",
        "print(\"KNN Performance with PCA (Optimized):\")\n",
        "print(classification_report(y_test, knn_pred_pca))\n",
        "print(\"Logistic Regression Performance with PCA (Optimized):\")\n",
        "print(classification_report(y_test, logreg_pred_pca))\n"
      ],
      "metadata": {
        "colab": {
          "base_uri": "https://localhost:8080/"
        },
        "id": "cNvUYiO1l4Wz",
        "outputId": "a1a583d5-5c0d-4f45-8d9a-1bf799dd2791"
      },
      "id": "cNvUYiO1l4Wz",
      "execution_count": null,
      "outputs": [
        {
          "output_type": "stream",
          "name": "stdout",
          "text": [
            "KNN Performance with PCA (Optimized):\n",
            "              precision    recall  f1-score   support\n",
            "\n",
            "           0       0.78      0.83      0.80        99\n",
            "           1       0.65      0.58      0.62        55\n",
            "\n",
            "    accuracy                           0.74       154\n",
            "   macro avg       0.72      0.71      0.71       154\n",
            "weighted avg       0.74      0.74      0.74       154\n",
            "\n",
            "Logistic Regression Performance with PCA (Optimized):\n",
            "              precision    recall  f1-score   support\n",
            "\n",
            "           0       0.81      0.85      0.83        99\n",
            "           1       0.70      0.64      0.67        55\n",
            "\n",
            "    accuracy                           0.77       154\n",
            "   macro avg       0.75      0.74      0.75       154\n",
            "weighted avg       0.77      0.77      0.77       154\n",
            "\n"
          ]
        }
      ]
    }
  ],
  "metadata": {
    "kernelspec": {
      "display_name": "Python 3 (ipykernel)",
      "language": "python",
      "name": "python3"
    },
    "language_info": {
      "codemirror_mode": {
        "name": "ipython",
        "version": 3
      },
      "file_extension": ".py",
      "mimetype": "text/x-python",
      "name": "python",
      "nbconvert_exporter": "python",
      "pygments_lexer": "ipython3",
      "version": "3.11.5"
    },
    "colab": {
      "provenance": [],
      "include_colab_link": true
    }
  },
  "nbformat": 4,
  "nbformat_minor": 5
}