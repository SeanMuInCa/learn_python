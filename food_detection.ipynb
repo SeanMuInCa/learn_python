{
  "nbformat": 4,
  "nbformat_minor": 0,
  "metadata": {
    "colab": {
      "provenance": [],
      "authorship_tag": "ABX9TyNLLPzRVa9Ph1gyzVXBn6my",
      "include_colab_link": true
    },
    "kernelspec": {
      "name": "python3",
      "display_name": "Python 3"
    },
    "language_info": {
      "name": "python"
    }
  },
  "cells": [
    {
      "cell_type": "markdown",
      "metadata": {
        "id": "view-in-github",
        "colab_type": "text"
      },
      "source": [
        "<a href=\"https://colab.research.google.com/github/SeanMuInCa/learn_python/blob/master/food_detection.ipynb\" target=\"_parent\"><img src=\"https://colab.research.google.com/assets/colab-badge.svg\" alt=\"Open In Colab\"/></a>"
      ]
    },
    {
      "cell_type": "code",
      "source": [
        "from google.colab import drive\n",
        "drive.mount('/content/drive')\n"
      ],
      "metadata": {
        "colab": {
          "base_uri": "https://localhost:8080/"
        },
        "id": "VL7dWF7I0oKU",
        "outputId": "6cc17d23-9033-4bed-b992-1ed55aa818a6"
      },
      "execution_count": 13,
      "outputs": [
        {
          "output_type": "stream",
          "name": "stdout",
          "text": [
            "Mounted at /content/drive\n"
          ]
        }
      ]
    },
    {
      "cell_type": "code",
      "source": [
        "import torch\n",
        "from torchvision import transforms\n",
        "from PIL import Image\n",
        "\n",
        "\n",
        "model_path = '/content/drive/My Drive/my_model_resnet50.pt'\n",
        "model = torch.load(model_path, map_location=torch.device('cpu'), weights_only=False)\n",
        "model.eval()\n",
        "\n",
        "# load class name method\n",
        "def load_class_names(filepath):\n",
        "    with open(filepath, 'r', encoding='utf-8') as f:\n",
        "        class_names = [line.strip() for line in f if line.strip()]\n",
        "    return class_names\n",
        "\n",
        "# load all classes\n",
        "class_names = load_class_names('/content/drive/My Drive/food-101/meta/classes.txt')\n",
        "\n",
        "# preprocess the images\n",
        "preprocess = transforms.Compose([\n",
        "    transforms.Resize((299, 299)),\n",
        "    transforms.ToTensor(),\n",
        "    transforms.Normalize(mean=[0.485, 0.456, 0.406],\n",
        "                         std=[0.229, 0.224, 0.225])\n",
        "])\n",
        "\n"
      ],
      "metadata": {
        "id": "7H5CA6-bylI6"
      },
      "execution_count": 14,
      "outputs": []
    },
    {
      "cell_type": "code",
      "source": [
        "# load one pic\n",
        "img_path = '/content/drive/My Drive/food-101/images/pork_chop/2275839.jpg'\n",
        "img = Image.open(img_path).convert('RGB')\n",
        "img_tensor = preprocess(img).unsqueeze(0)\n",
        "\n",
        "# pred\n",
        "with torch.no_grad():\n",
        "    output = model(img_tensor)\n",
        "\n",
        "    _, pred = torch.max(output, 1)\n",
        "\n",
        "# show res\n",
        "predicted_class = class_names[pred.item()]\n",
        "print(\"The image should be:\", predicted_class)\n"
      ],
      "metadata": {
        "colab": {
          "base_uri": "https://localhost:8080/"
        },
        "id": "BY7_WqW4yqlu",
        "outputId": "b8ae31df-ed52-4dba-d519-e9b0fa1851bc"
      },
      "execution_count": 16,
      "outputs": [
        {
          "output_type": "stream",
          "name": "stdout",
          "text": [
            "The image should be: pork_chop\n"
          ]
        }
      ]
    },
    {
      "cell_type": "code",
      "execution_count": 20,
      "metadata": {
        "colab": {
          "base_uri": "https://localhost:8080/"
        },
        "id": "MmvFTv9ovi2V",
        "outputId": "05b93356-5c9b-4522-f655-345f85f3d023"
      },
      "outputs": [
        {
          "output_type": "stream",
          "name": "stdout",
          "text": [
            "If you have high blood pressure (hypertension) and are taking medication for it, you can still enjoy **pork chops**, but there are a few important considerations to keep in mind:\n",
            "\n",
            "### **1. Sodium Content**  \n",
            "- Many pork chops (especially pre-marinated or processed ones) can be high in **sodium**, which can raise blood pressure.  \n",
            "- **Tip:** Choose **fresh, unseasoned pork chops** and avoid pre-packaged or cured versions (like smoked or salted pork).  \n",
            "\n",
            "### **2. Cooking Method Matters**  \n",
            "- Avoid **deep-frying or heavy breading**, as excess unhealthy fats can contribute to heart issues.  \n",
            "- **Healthier options:**  \n",
            "  - **Grilled, baked, or air-fried** with minimal oil.  \n",
            "  - Season with **herbs, garlic, lemon, or pepper** instead of salt.  \n",
            "\n",
            "### **3. Fat Content**  \n",
            "- Pork chops can be fatty, especially if not trimmed.  \n",
            "- **Choose lean cuts** (like **center-cut loin chops**) and trim visible fat before cooking.  \n",
            "\n",
            "### **4. Portion Control**  \n",
            "- Keep portions moderate (about **3–4 oz cooked**) to avoid excessive calorie and fat intake.  \n",
            "\n",
            "### **5. Balance with a Heart-Healthy Diet**  \n",
            "- Pair pork chops with **vegetables (steamed, roasted)** and **whole grains (brown rice, quinoa)**.  \n",
            "- Avoid high-sodium sides like gravy, soy sauce, or processed sauces.  \n",
            "\n",
            "### **Final Verdict:**  \n",
            "✅ **Yes, you can eat pork chops** if you choose **lean cuts, cook them healthily, and watch sodium intake**.  \n",
            "❌ **Avoid if:** They are fried, heavily salted, or processed (like bacon or ham).  \n",
            "\n",
            "Would you like suggestions for low-sodium seasoning alternatives? 😊\n"
          ]
        }
      ],
      "source": [
        "from openai import OpenAI\n",
        "\n",
        "client = OpenAI(api_key=\"sk-4e98eb1df2dc496dbf9cf38f1aa8320e\", base_url=\"https://api.deepseek.com\")\n",
        "\n",
        "response = client.chat.completions.create(\n",
        "    model=\"deepseek-chat\",\n",
        "    messages=[\n",
        "        {\"role\": \"user\", \"content\": f\"i have high blood presure, and i want to know is that ok for me to eat '{predicted_class}'\"},\n",
        "    ],\n",
        "    stream=True\n",
        ")\n",
        "\n",
        "# Iterate through the stream of events to get the full content\n",
        "full_content = \"\"\n",
        "for chunk in response:\n",
        "    # Access the content from the chunk directly as chunk.choices[0].delta.content\n",
        "    # instead of using get() method.\n",
        "    # If chunk.choices[0].delta.content is None, use an empty string.\n",
        "    content = chunk.choices[0].delta.content if chunk.choices[0].delta.content is not None else \"\"\n",
        "    full_content += content\n",
        "\n",
        "print(full_content)"
      ]
    }
  ]
}