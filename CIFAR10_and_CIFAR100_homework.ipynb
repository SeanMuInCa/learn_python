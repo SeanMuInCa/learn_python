{
  "cells": [
    {
      "cell_type": "markdown",
      "metadata": {
        "id": "view-in-github",
        "colab_type": "text"
      },
      "source": [
        "<a href=\"https://colab.research.google.com/github/SeanMuInCa/learn_python/blob/master/CIFAR10_and_CIFAR100_homework.ipynb\" target=\"_parent\"><img src=\"https://colab.research.google.com/assets/colab-badge.svg\" alt=\"Open In Colab\"/></a>"
      ]
    },
    {
      "cell_type": "code",
      "execution_count": 1,
      "metadata": {
        "id": "PeDH7eWIuDw4"
      },
      "outputs": [],
      "source": [
        "import tensorflow as tf\n",
        "from tensorflow.keras import datasets,layers, models\n",
        "import matplotlib.pyplot as plt\n",
        "import numpy as np"
      ]
    },
    {
      "cell_type": "markdown",
      "metadata": {
        "id": "nS_uQslPxIAL"
      },
      "source": [
        "## load dataset"
      ]
    },
    {
      "cell_type": "code",
      "execution_count": 2,
      "metadata": {
        "colab": {
          "base_uri": "https://localhost:8080/"
        },
        "id": "AtMc6fbexHrd",
        "outputId": "fc0c3592-2e85-4447-83b0-7ef5a333fa09"
      },
      "outputs": [
        {
          "output_type": "stream",
          "name": "stdout",
          "text": [
            "Downloading data from https://www.cs.toronto.edu/~kriz/cifar-10-python.tar.gz\n",
            "\u001b[1m170498071/170498071\u001b[0m \u001b[32m━━━━━━━━━━━━━━━━━━━━\u001b[0m\u001b[37m\u001b[0m \u001b[1m3s\u001b[0m 0us/step\n"
          ]
        }
      ],
      "source": [
        "(x_train,y_train),(x_test,y_test) = datasets.cifar10.load_data()"
      ]
    },
    {
      "cell_type": "code",
      "execution_count": 3,
      "metadata": {
        "colab": {
          "base_uri": "https://localhost:8080/"
        },
        "id": "GoM1whWXw_uD",
        "outputId": "d5cef091-78d2-404e-b556-6cdac0d90b0c"
      },
      "outputs": [
        {
          "output_type": "execute_result",
          "data": {
            "text/plain": [
              "(50000, 32, 32, 3)"
            ]
          },
          "metadata": {},
          "execution_count": 3
        }
      ],
      "source": [
        "x_train.shape"
      ]
    },
    {
      "cell_type": "code",
      "execution_count": 4,
      "metadata": {
        "colab": {
          "base_uri": "https://localhost:8080/"
        },
        "id": "aQc7tDp7xjru",
        "outputId": "09fc642c-c5e7-4760-8860-cf0db4f1491e"
      },
      "outputs": [
        {
          "output_type": "execute_result",
          "data": {
            "text/plain": [
              "(10000, 32, 32, 3)"
            ]
          },
          "metadata": {},
          "execution_count": 4
        }
      ],
      "source": [
        "x_test.shape"
      ]
    },
    {
      "cell_type": "code",
      "execution_count": 5,
      "metadata": {
        "colab": {
          "base_uri": "https://localhost:8080/"
        },
        "id": "undni5Bwx4sG",
        "outputId": "7f844a6e-9086-4332-a72c-7170cfa5a105"
      },
      "outputs": [
        {
          "output_type": "execute_result",
          "data": {
            "text/plain": [
              "(50000, 1)"
            ]
          },
          "metadata": {},
          "execution_count": 5
        }
      ],
      "source": [
        "y_train.shape"
      ]
    },
    {
      "cell_type": "code",
      "execution_count": 6,
      "metadata": {
        "colab": {
          "base_uri": "https://localhost:8080/"
        },
        "id": "61PE1Q8Ux81z",
        "outputId": "8366c8ee-e335-45f2-ba46-8866e1059036"
      },
      "outputs": [
        {
          "output_type": "execute_result",
          "data": {
            "text/plain": [
              "(10000, 1)"
            ]
          },
          "metadata": {},
          "execution_count": 6
        }
      ],
      "source": [
        "y_test.shape"
      ]
    },
    {
      "cell_type": "code",
      "execution_count": 7,
      "metadata": {
        "id": "ffh1O2IDyJOp",
        "outputId": "19c370ba-6cda-4907-ca89-90e0278b8f63",
        "colab": {
          "base_uri": "https://localhost:8080/"
        }
      },
      "outputs": [
        {
          "output_type": "execute_result",
          "data": {
            "text/plain": [
              "array([[6],\n",
              "       [9],\n",
              "       [9],\n",
              "       [4],\n",
              "       [1],\n",
              "       [1],\n",
              "       [2],\n",
              "       [7],\n",
              "       [8],\n",
              "       [3]], dtype=uint8)"
            ]
          },
          "metadata": {},
          "execution_count": 7
        }
      ],
      "source": [
        "y_train[:10]"
      ]
    },
    {
      "cell_type": "markdown",
      "metadata": {
        "id": "gJdEvdezybq7"
      },
      "source": [
        "### reshape my y_test/train into 1D"
      ]
    },
    {
      "cell_type": "code",
      "execution_count": 8,
      "metadata": {
        "id": "F-zxx09jyU2-"
      },
      "outputs": [],
      "source": [
        "y_train=y_train.reshape(-1,)"
      ]
    },
    {
      "cell_type": "code",
      "execution_count": 9,
      "metadata": {
        "colab": {
          "base_uri": "https://localhost:8080/"
        },
        "id": "tys7X6Y4yk8t",
        "outputId": "452c377d-7830-4b64-be95-a90ecc1c4f38"
      },
      "outputs": [
        {
          "output_type": "execute_result",
          "data": {
            "text/plain": [
              "array([6, 9, 9, 4, 1, 1, 2, 7, 8, 3], dtype=uint8)"
            ]
          },
          "metadata": {},
          "execution_count": 9
        }
      ],
      "source": [
        "y_train[:10]"
      ]
    },
    {
      "cell_type": "code",
      "execution_count": 10,
      "metadata": {
        "id": "4z6ldO8pyntZ"
      },
      "outputs": [],
      "source": [
        "y_test=y_test.reshape(-1,)"
      ]
    },
    {
      "cell_type": "code",
      "execution_count": 11,
      "metadata": {
        "id": "fOd86HW4zAr5"
      },
      "outputs": [],
      "source": [
        "classes=[\"airplane\",\"automobile\",\"bird\",\"cat\",\"deer\",\"dog\",\"frog\",\"horse\",\"ship\",\"truck\"]"
      ]
    },
    {
      "cell_type": "markdown",
      "metadata": {
        "id": "MHmYIH6yzk9y"
      },
      "source": [
        "#### to display the sample data from dataset"
      ]
    },
    {
      "cell_type": "code",
      "execution_count": 12,
      "metadata": {
        "id": "tCdU-Ff2zVJz"
      },
      "outputs": [],
      "source": [
        "def plot_sample(x,y,index):\n",
        "  plt.figure(figsize=(15,2))\n",
        "  plt.imshow(x[index])\n",
        "  plt.xlabel(classes[y[index]])"
      ]
    },
    {
      "cell_type": "code",
      "execution_count": 13,
      "metadata": {
        "colab": {
          "base_uri": "https://localhost:8080/",
          "height": 237
        },
        "id": "yUZpSj9X0V6K",
        "outputId": "d30a223a-0123-4867-d5cd-42a694a072e1"
      },
      "outputs": [
        {
          "output_type": "display_data",
          "data": {
            "text/plain": [
              "<Figure size 1500x200 with 1 Axes>"
            ],
            "image/png": "[encoded data removed]"
          },
          "metadata": {}
        }
      ],
      "source": [
        "plot_sample(x_train,y_train,10)"
      ]
    },
    {
      "cell_type": "markdown",
      "metadata": {
        "id": "L9s7mu0k1tqS"
      },
      "source": [
        "## normalized your image"
      ]
    },
    {
      "cell_type": "code",
      "execution_count": 14,
      "metadata": {
        "id": "doTunBcS0mfq"
      },
      "outputs": [],
      "source": [
        "x_train=x_train/255.0\n",
        "x_test=x_test/255.0"
      ]
    },
    {
      "cell_type": "markdown",
      "metadata": {
        "id": "x597kUOg12fu"
      },
      "source": [
        "### build simple ANN for image classification"
      ]
    },
    {
      "cell_type": "code",
      "execution_count": 15,
      "metadata": {
        "colab": {
          "base_uri": "https://localhost:8080/"
        },
        "id": "60veBAAf1wfc",
        "outputId": "7b77a991-1bac-42c3-ea7e-00c48e2fce4a"
      },
      "outputs": [
        {
          "output_type": "stream",
          "name": "stderr",
          "text": [
            "/usr/local/lib/python3.11/dist-packages/keras/src/layers/reshaping/flatten.py:37: UserWarning: Do not pass an `input_shape`/`input_dim` argument to a layer. When using Sequential models, prefer using an `Input(shape)` object as the first layer in the model instead.\n",
            "  super().__init__(**kwargs)\n"
          ]
        },
        {
          "output_type": "stream",
          "name": "stdout",
          "text": [
            "Epoch 1/5\n",
            "\u001b[1m1563/1563\u001b[0m \u001b[32m━━━━━━━━━━━━━━━━━━━━\u001b[0m\u001b[37m\u001b[0m \u001b[1m140s\u001b[0m 88ms/step - accuracy: 0.2998 - loss: 1.9321\n",
            "Epoch 2/5\n",
            "\u001b[1m1563/1563\u001b[0m \u001b[32m━━━━━━━━━━━━━━━━━━━━\u001b[0m\u001b[37m\u001b[0m \u001b[1m139s\u001b[0m 89ms/step - accuracy: 0.4167 - loss: 1.6501\n",
            "Epoch 3/5\n",
            "\u001b[1m1563/1563\u001b[0m \u001b[32m━━━━━━━━━━━━━━━━━━━━\u001b[0m\u001b[37m\u001b[0m \u001b[1m141s\u001b[0m 88ms/step - accuracy: 0.4550 - loss: 1.5536\n",
            "Epoch 4/5\n",
            "\u001b[1m1563/1563\u001b[0m \u001b[32m━━━━━━━━━━━━━━━━━━━━\u001b[0m\u001b[37m\u001b[0m \u001b[1m149s\u001b[0m 93ms/step - accuracy: 0.4722 - loss: 1.4952\n",
            "Epoch 5/5\n",
            "\u001b[1m1563/1563\u001b[0m \u001b[32m━━━━━━━━━━━━━━━━━━━━\u001b[0m\u001b[37m\u001b[0m \u001b[1m197s\u001b[0m 90ms/step - accuracy: 0.4919 - loss: 1.4417\n"
          ]
        },
        {
          "output_type": "execute_result",
          "data": {
            "text/plain": [
              "<keras.src.callbacks.history.History at 0x7e131497c610>"
            ]
          },
          "metadata": {},
          "execution_count": 15
        }
      ],
      "source": [
        "ann = models.Sequential([\n",
        "    layers.Flatten (input_shape=(32,32,3)),\n",
        "    layers.Dense(3000,activation='relu'),\n",
        "    layers.Dense(1000,activation='relu'),\n",
        "    layers.Dense(10,activation='sigmoid')\n",
        "\n",
        "])\n",
        "\n",
        "ann.compile(optimizer='SGD',\n",
        "            loss='sparse_categorical_crossentropy',\n",
        "            metrics = ['accuracy'])\n",
        "\n",
        "ann.fit(x_train,y_train, epochs=5)"
      ]
    },
    {
      "cell_type": "markdown",
      "metadata": {
        "id": "ZF4UZxE_4fZw"
      },
      "source": [
        "### getting very low accuracy in image classfication using ANN\n"
      ]
    },
    {
      "cell_type": "code",
      "execution_count": 16,
      "metadata": {
        "id": "qG4zTjnr31VK",
        "outputId": "b63edc75-97a6-472b-f3b1-a1d31e0fa666",
        "colab": {
          "base_uri": "https://localhost:8080/"
        }
      },
      "outputs": [
        {
          "output_type": "stream",
          "name": "stdout",
          "text": [
            "\u001b[1m313/313\u001b[0m \u001b[32m━━━━━━━━━━━━━━━━━━━━\u001b[0m\u001b[37m\u001b[0m \u001b[1m8s\u001b[0m 24ms/step\n",
            "classification report:\n",
            "               precision    recall  f1-score   support\n",
            "\n",
            "           0       0.55      0.58      0.56      1000\n",
            "           1       0.64      0.56      0.60      1000\n",
            "           2       0.36      0.38      0.37      1000\n",
            "           3       0.38      0.25      0.30      1000\n",
            "           4       0.59      0.15      0.24      1000\n",
            "           5       0.44      0.35      0.39      1000\n",
            "           6       0.35      0.81      0.49      1000\n",
            "           7       0.59      0.49      0.54      1000\n",
            "           8       0.66      0.56      0.61      1000\n",
            "           9       0.49      0.65      0.56      1000\n",
            "\n",
            "    accuracy                           0.48     10000\n",
            "   macro avg       0.50      0.48      0.47     10000\n",
            "weighted avg       0.50      0.48      0.47     10000\n",
            "\n"
          ]
        }
      ],
      "source": [
        "from sklearn.metrics import confusion_matrix, classification_report\n",
        "y_pred =  ann.predict(x_test)\n",
        "y_pred_classes = [np.argmax(element) for element in y_pred]\n",
        "print(\"classification report:\\n\", classification_report(y_test, y_pred_classes))"
      ]
    },
    {
      "cell_type": "markdown",
      "metadata": {
        "id": "CB70haFe0Ls_"
      },
      "source": [
        "### Trying with CNN"
      ]
    },
    {
      "cell_type": "code",
      "execution_count": 17,
      "metadata": {
        "id": "SsuhEcI30Ls_",
        "outputId": "2ea160fe-00f6-4c9a-f9d4-2c083bf2984d",
        "colab": {
          "base_uri": "https://localhost:8080/"
        }
      },
      "outputs": [
        {
          "output_type": "stream",
          "name": "stderr",
          "text": [
            "/usr/local/lib/python3.11/dist-packages/keras/src/layers/convolutional/base_conv.py:107: UserWarning: Do not pass an `input_shape`/`input_dim` argument to a layer. When using Sequential models, prefer using an `Input(shape)` object as the first layer in the model instead.\n",
            "  super().__init__(activity_regularizer=activity_regularizer, **kwargs)\n"
          ]
        },
        {
          "output_type": "stream",
          "name": "stdout",
          "text": [
            "Epoch 1/10\n",
            "\u001b[1m1563/1563\u001b[0m \u001b[32m━━━━━━━━━━━━━━━━━━━━\u001b[0m\u001b[37m\u001b[0m \u001b[1m65s\u001b[0m 41ms/step - accuracy: 0.3864 - loss: 1.6892\n",
            "Epoch 2/10\n",
            "\u001b[1m1563/1563\u001b[0m \u001b[32m━━━━━━━━━━━━━━━━━━━━\u001b[0m\u001b[37m\u001b[0m \u001b[1m82s\u001b[0m 40ms/step - accuracy: 0.6060 - loss: 1.1186\n",
            "Epoch 3/10\n",
            "\u001b[1m1563/1563\u001b[0m \u001b[32m━━━━━━━━━━━━━━━━━━━━\u001b[0m\u001b[37m\u001b[0m \u001b[1m82s\u001b[0m 40ms/step - accuracy: 0.6626 - loss: 0.9655\n",
            "Epoch 4/10\n",
            "\u001b[1m1563/1563\u001b[0m \u001b[32m━━━━━━━━━━━━━━━━━━━━\u001b[0m\u001b[37m\u001b[0m \u001b[1m84s\u001b[0m 42ms/step - accuracy: 0.7059 - loss: 0.8463\n",
            "Epoch 5/10\n",
            "\u001b[1m1563/1563\u001b[0m \u001b[32m━━━━━━━━━━━━━━━━━━━━\u001b[0m\u001b[37m\u001b[0m \u001b[1m80s\u001b[0m 40ms/step - accuracy: 0.7301 - loss: 0.7737\n",
            "Epoch 6/10\n",
            "\u001b[1m1563/1563\u001b[0m \u001b[32m━━━━━━━━━━━━━━━━━━━━\u001b[0m\u001b[37m\u001b[0m \u001b[1m82s\u001b[0m 40ms/step - accuracy: 0.7583 - loss: 0.6930\n",
            "Epoch 7/10\n",
            "\u001b[1m1563/1563\u001b[0m \u001b[32m━━━━━━━━━━━━━━━━━━━━\u001b[0m\u001b[37m\u001b[0m \u001b[1m82s\u001b[0m 40ms/step - accuracy: 0.7735 - loss: 0.6389\n",
            "Epoch 8/10\n",
            "\u001b[1m1563/1563\u001b[0m \u001b[32m━━━━━━━━━━━━━━━━━━━━\u001b[0m\u001b[37m\u001b[0m \u001b[1m82s\u001b[0m 40ms/step - accuracy: 0.8000 - loss: 0.5695\n",
            "Epoch 9/10\n",
            "\u001b[1m1563/1563\u001b[0m \u001b[32m━━━━━━━━━━━━━━━━━━━━\u001b[0m\u001b[37m\u001b[0m \u001b[1m80s\u001b[0m 39ms/step - accuracy: 0.8213 - loss: 0.5130\n",
            "Epoch 10/10\n",
            "\u001b[1m1563/1563\u001b[0m \u001b[32m━━━━━━━━━━━━━━━━━━━━\u001b[0m\u001b[37m\u001b[0m \u001b[1m83s\u001b[0m 40ms/step - accuracy: 0.8338 - loss: 0.4672\n"
          ]
        },
        {
          "output_type": "execute_result",
          "data": {
            "text/plain": [
              "<keras.src.callbacks.history.History at 0x7e1310657810>"
            ]
          },
          "metadata": {},
          "execution_count": 17
        }
      ],
      "source": [
        "from keras import Sequential\n",
        "cnn = models.Sequential([\n",
        "\n",
        "    layers.Conv2D(filters=32,kernel_size=(3,3),activation='relu',input_shape = (32,32,3)),\n",
        "    layers.MaxPooling2D((2,2)),\n",
        "\n",
        "    layers.Conv2D(filters=64,kernel_size=(3,3),activation='relu'),\n",
        "    layers.MaxPooling2D((2,2)),\n",
        "\n",
        "    layers.Flatten(),\n",
        "    layers.Dense(120,activation='relu'),\n",
        "    layers.Dense(10,activation='sigmoid')\n",
        "])\n",
        "\n",
        "cnn.compile(optimizer='adam',\n",
        "            loss= 'sparse_categorical_crossentropy',\n",
        "            metrics = ['accuracy'])\n",
        "cnn.fit(x_train,y_train,epochs=10)"
      ]
    },
    {
      "cell_type": "code",
      "execution_count": 18,
      "metadata": {
        "id": "eZzepcxT0LtA",
        "outputId": "4809df71-e410-41f4-d675-9a6137e91fc6",
        "colab": {
          "base_uri": "https://localhost:8080/"
        }
      },
      "outputs": [
        {
          "output_type": "stream",
          "name": "stdout",
          "text": [
            "\u001b[1m313/313\u001b[0m \u001b[32m━━━━━━━━━━━━━━━━━━━━\u001b[0m\u001b[37m\u001b[0m \u001b[1m4s\u001b[0m 11ms/step\n",
            "classification report with CNN:\n",
            "               precision    recall  f1-score   support\n",
            "\n",
            "           0       0.73      0.75      0.74      1000\n",
            "           1       0.90      0.74      0.81      1000\n",
            "           2       0.56      0.64      0.60      1000\n",
            "           3       0.56      0.48      0.52      1000\n",
            "           4       0.67      0.62      0.64      1000\n",
            "           5       0.60      0.64      0.62      1000\n",
            "           6       0.73      0.83      0.77      1000\n",
            "           7       0.72      0.77      0.75      1000\n",
            "           8       0.85      0.78      0.81      1000\n",
            "           9       0.80      0.81      0.80      1000\n",
            "\n",
            "    accuracy                           0.71     10000\n",
            "   macro avg       0.71      0.71      0.71     10000\n",
            "weighted avg       0.71      0.71      0.71     10000\n",
            "\n"
          ]
        }
      ],
      "source": [
        "y_pred_cnn = cnn.predict(x_test)\n",
        "y_pred_classes_cnn =[np.argmax(element) for element in y_pred_cnn]\n",
        "print(\"classification report with CNN:\\n\", classification_report(y_test,y_pred_classes_cnn))"
      ]
    },
    {
      "cell_type": "markdown",
      "metadata": {
        "id": "vFUunuU-0LtA"
      },
      "source": [
        "## CIFAR 100"
      ]
    },
    {
      "cell_type": "markdown",
      "metadata": {
        "id": "NsAICF790LtA"
      },
      "source": [
        "## load dataset"
      ]
    },
    {
      "cell_type": "code",
      "execution_count": 19,
      "metadata": {
        "colab": {
          "base_uri": "https://localhost:8080/"
        },
        "outputId": "26011ac8-eda3-47e0-afd8-58417d990a38",
        "id": "XVT7Gixc0LtB"
      },
      "outputs": [
        {
          "output_type": "stream",
          "name": "stdout",
          "text": [
            "Downloading data from https://www.cs.toronto.edu/~kriz/cifar-100-python.tar.gz\n",
            "\u001b[1m169001437/169001437\u001b[0m \u001b[32m━━━━━━━━━━━━━━━━━━━━\u001b[0m\u001b[37m\u001b[0m \u001b[1m2s\u001b[0m 0us/step\n"
          ]
        }
      ],
      "source": [
        "(x_train,y_train),(x_test,y_test) = datasets.cifar100.load_data()"
      ]
    },
    {
      "cell_type": "code",
      "execution_count": 20,
      "metadata": {
        "colab": {
          "base_uri": "https://localhost:8080/"
        },
        "outputId": "bbc89b7c-32c5-4f89-a4ab-1d6f6879c3c7",
        "id": "pq4yk7Ft0LtB"
      },
      "outputs": [
        {
          "output_type": "execute_result",
          "data": {
            "text/plain": [
              "(50000, 32, 32, 3)"
            ]
          },
          "metadata": {},
          "execution_count": 20
        }
      ],
      "source": [
        "x_train.shape"
      ]
    },
    {
      "cell_type": "code",
      "execution_count": 21,
      "metadata": {
        "colab": {
          "base_uri": "https://localhost:8080/"
        },
        "outputId": "0a9f16f7-1713-4bd0-925e-8be07f04dd99",
        "id": "M7aqBx6v0LtB"
      },
      "outputs": [
        {
          "output_type": "execute_result",
          "data": {
            "text/plain": [
              "(10000, 32, 32, 3)"
            ]
          },
          "metadata": {},
          "execution_count": 21
        }
      ],
      "source": [
        "x_test.shape"
      ]
    },
    {
      "cell_type": "code",
      "execution_count": 22,
      "metadata": {
        "colab": {
          "base_uri": "https://localhost:8080/"
        },
        "outputId": "60f6eca7-8c70-481d-bf45-be98e2be4d4d",
        "id": "hga6MKhb0LtB"
      },
      "outputs": [
        {
          "output_type": "execute_result",
          "data": {
            "text/plain": [
              "(50000, 1)"
            ]
          },
          "metadata": {},
          "execution_count": 22
        }
      ],
      "source": [
        "y_train.shape"
      ]
    },
    {
      "cell_type": "code",
      "execution_count": 23,
      "metadata": {
        "colab": {
          "base_uri": "https://localhost:8080/"
        },
        "outputId": "c8385388-1b7e-4be7-d3fe-7d8bf406d98c",
        "id": "1Ac9_b6s0LtB"
      },
      "outputs": [
        {
          "output_type": "execute_result",
          "data": {
            "text/plain": [
              "(10000, 1)"
            ]
          },
          "metadata": {},
          "execution_count": 23
        }
      ],
      "source": [
        "y_test.shape"
      ]
    },
    {
      "cell_type": "code",
      "execution_count": 24,
      "metadata": {
        "id": "D8b3Ux5u0LtC",
        "outputId": "8d1135e6-ab8d-48c4-8ea6-36fd09bdaa51",
        "colab": {
          "base_uri": "https://localhost:8080/"
        }
      },
      "outputs": [
        {
          "output_type": "execute_result",
          "data": {
            "text/plain": [
              "array([[19],\n",
              "       [29],\n",
              "       [ 0],\n",
              "       [11],\n",
              "       [ 1],\n",
              "       [86],\n",
              "       [90],\n",
              "       [28],\n",
              "       [23],\n",
              "       [31]])"
            ]
          },
          "metadata": {},
          "execution_count": 24
        }
      ],
      "source": [
        "y_train[:10]"
      ]
    },
    {
      "cell_type": "markdown",
      "metadata": {
        "id": "1M9OO7No0LtC"
      },
      "source": [
        "### reshape my y_test/train into 1D"
      ]
    },
    {
      "cell_type": "code",
      "execution_count": 25,
      "metadata": {
        "id": "iFUvwN440LtC"
      },
      "outputs": [],
      "source": [
        "y_train=y_train.reshape(-1,)"
      ]
    },
    {
      "cell_type": "code",
      "execution_count": 26,
      "metadata": {
        "colab": {
          "base_uri": "https://localhost:8080/"
        },
        "outputId": "e9ef4c8c-1842-4fcc-8895-3407c745a442",
        "id": "OTMUJSgr0LtC"
      },
      "outputs": [
        {
          "output_type": "execute_result",
          "data": {
            "text/plain": [
              "array([19, 29,  0, 11,  1, 86, 90, 28, 23, 31])"
            ]
          },
          "metadata": {},
          "execution_count": 26
        }
      ],
      "source": [
        "y_train[:10]"
      ]
    },
    {
      "cell_type": "code",
      "execution_count": 27,
      "metadata": {
        "id": "_4oEd8840LtC"
      },
      "outputs": [],
      "source": [
        "y_test=y_test.reshape(-1,)"
      ]
    },
    {
      "cell_type": "code",
      "execution_count": 28,
      "metadata": {
        "id": "dROfGbkC0LtC"
      },
      "outputs": [],
      "source": [
        "classes = [\n",
        "    'apple', 'aquarium_fish', 'baby', 'bear', 'beaver', 'bed', 'bee', 'beetle',\n",
        "    'bicycle', 'bottle', 'bowl', 'boy', 'bridge', 'bus', 'butterfly', 'camel',\n",
        "    'can', 'castle', 'caterpillar', 'cattle', 'chair', 'chimpanzee', 'clock',\n",
        "    'cloud', 'cockroach', 'couch', 'crab', 'crocodile', 'cup', 'dinosaur',\n",
        "    'dolphin', 'elephant', 'flatfish', 'forest', 'fox', 'girl', 'hamster',\n",
        "    'house', 'kangaroo', 'keyboard', 'lamp', 'lawn_mower', 'leopard', 'lion',\n",
        "    'lizard', 'lobster', 'man', 'maple_tree', 'motorcycle', 'mountain', 'mouse',\n",
        "    'mushroom', 'oak_tree', 'orange', 'orchid', 'otter', 'palm_tree', 'pear',\n",
        "    'pickup_truck', 'pine_tree', 'plain', 'plate', 'poppy', 'porcupine',\n",
        "    'possum', 'rabbit', 'raccoon', 'ray', 'road', 'rocket', 'rose',\n",
        "    'sea', 'seal', 'shark', 'shrew', 'skunk', 'skyscraper', 'snail', 'snake',\n",
        "    'spider', 'squirrel', 'streetcar', 'sunflower', 'sweet_pepper', 'table',\n",
        "    'tank', 'telephone', 'television', 'tiger', 'tractor', 'train', 'trout',\n",
        "    'tulip', 'turtle', 'wardrobe', 'whale', 'willow_tree', 'wolf', 'woman', 'worm'\n",
        "]"
      ]
    },
    {
      "cell_type": "markdown",
      "metadata": {
        "id": "xNcYmhti0LtC"
      },
      "source": [
        "#### to display the sample data from dataset"
      ]
    },
    {
      "cell_type": "code",
      "execution_count": 29,
      "metadata": {
        "colab": {
          "base_uri": "https://localhost:8080/",
          "height": 237
        },
        "outputId": "aad52abf-ec8d-484f-ae48-4b8d1e48cb2f",
        "id": "6SvYTjL30LtH"
      },
      "outputs": [
        {
          "output_type": "display_data",
          "data": {
            "text/plain": [
              "<Figure size 1500x200 with 1 Axes>"
            ],
            "image/png": "[encoded data removed]"
          },
          "metadata": {}
        }
      ],
      "source": [
        "plot_sample(x_train,y_train,10)"
      ]
    },
    {
      "cell_type": "markdown",
      "metadata": {
        "id": "jiffBJFX0LtH"
      },
      "source": [
        "## normalized your image"
      ]
    },
    {
      "cell_type": "code",
      "execution_count": 30,
      "metadata": {
        "id": "vPBvjk1g0LtH"
      },
      "outputs": [],
      "source": [
        "x_train=x_train/255.0\n",
        "x_test=x_test/255.0"
      ]
    },
    {
      "cell_type": "markdown",
      "metadata": {
        "id": "l8-eq9-e0LtI"
      },
      "source": [
        "### Trying with CNN"
      ]
    },
    {
      "cell_type": "code",
      "execution_count": 31,
      "metadata": {
        "id": "t5CXhHJs0LtI",
        "outputId": "223ada6d-9f34-49ec-b5eb-1c6b4fa82b84",
        "colab": {
          "base_uri": "https://localhost:8080/"
        }
      },
      "outputs": [
        {
          "output_type": "stream",
          "name": "stderr",
          "text": [
            "/usr/local/lib/python3.11/dist-packages/keras/src/layers/convolutional/base_conv.py:107: UserWarning: Do not pass an `input_shape`/`input_dim` argument to a layer. When using Sequential models, prefer using an `Input(shape)` object as the first layer in the model instead.\n",
            "  super().__init__(activity_regularizer=activity_regularizer, **kwargs)\n"
          ]
        },
        {
          "output_type": "stream",
          "name": "stdout",
          "text": [
            "Epoch 1/10\n",
            "\u001b[1m1563/1563\u001b[0m \u001b[32m━━━━━━━━━━━━━━━━━━━━\u001b[0m\u001b[37m\u001b[0m \u001b[1m88s\u001b[0m 55ms/step - accuracy: 0.0865 - loss: 4.0075\n",
            "Epoch 2/10\n",
            "\u001b[1m1563/1563\u001b[0m \u001b[32m━━━━━━━━━━━━━━━━━━━━\u001b[0m\u001b[37m\u001b[0m \u001b[1m147s\u001b[0m 58ms/step - accuracy: 0.2584 - loss: 2.9726\n",
            "Epoch 3/10\n",
            "\u001b[1m1563/1563\u001b[0m \u001b[32m━━━━━━━━━━━━━━━━━━━━\u001b[0m\u001b[37m\u001b[0m \u001b[1m92s\u001b[0m 59ms/step - accuracy: 0.3491 - loss: 2.5074\n",
            "Epoch 4/10\n",
            "\u001b[1m1563/1563\u001b[0m \u001b[32m━━━━━━━━━━━━━━━━━━━━\u001b[0m\u001b[37m\u001b[0m \u001b[1m135s\u001b[0m 54ms/step - accuracy: 0.4244 - loss: 2.1552\n",
            "Epoch 5/10\n",
            "\u001b[1m1563/1563\u001b[0m \u001b[32m━━━━━━━━━━━━━━━━━━━━\u001b[0m\u001b[37m\u001b[0m \u001b[1m143s\u001b[0m 55ms/step - accuracy: 0.5028 - loss: 1.8217\n",
            "Epoch 6/10\n",
            "\u001b[1m1563/1563\u001b[0m \u001b[32m━━━━━━━━━━━━━━━━━━━━\u001b[0m\u001b[37m\u001b[0m \u001b[1m86s\u001b[0m 55ms/step - accuracy: 0.5735 - loss: 1.5080\n",
            "Epoch 7/10\n",
            "\u001b[1m1563/1563\u001b[0m \u001b[32m━━━━━━━━━━━━━━━━━━━━\u001b[0m\u001b[37m\u001b[0m \u001b[1m145s\u001b[0m 57ms/step - accuracy: 0.6434 - loss: 1.2217\n",
            "Epoch 8/10\n",
            "\u001b[1m1563/1563\u001b[0m \u001b[32m━━━━━━━━━━━━━━━━━━━━\u001b[0m\u001b[37m\u001b[0m \u001b[1m139s\u001b[0m 55ms/step - accuracy: 0.7082 - loss: 0.9795\n",
            "Epoch 9/10\n",
            "\u001b[1m1563/1563\u001b[0m \u001b[32m━━━━━━━━━━━━━━━━━━━━\u001b[0m\u001b[37m\u001b[0m \u001b[1m144s\u001b[0m 56ms/step - accuracy: 0.7636 - loss: 0.7797\n",
            "Epoch 10/10\n",
            "\u001b[1m1563/1563\u001b[0m \u001b[32m━━━━━━━━━━━━━━━━━━━━\u001b[0m\u001b[37m\u001b[0m \u001b[1m86s\u001b[0m 55ms/step - accuracy: 0.8027 - loss: 0.6470\n"
          ]
        },
        {
          "output_type": "execute_result",
          "data": {
            "text/plain": [
              "<keras.src.callbacks.history.History at 0x7e130eb31c90>"
            ]
          },
          "metadata": {},
          "execution_count": 31
        }
      ],
      "source": [
        "from keras import Sequential\n",
        "cnn = models.Sequential([\n",
        "\n",
        "    layers.Conv2D(filters=32,kernel_size=(3,3), strides=(2, 2), activation='relu', padding='same', input_shape = (32,32,3)),\n",
        "    layers.MaxPooling2D(pool_size=(2, 2), strides=(1, 1), padding='same'),\n",
        "\n",
        "    layers.Conv2D(kernel_size=(3, 3), padding='same', strides=(2, 2), filters=64),\n",
        "    layers.MaxPooling2D(pool_size=(2, 2), strides=(1, 1), padding='same'),\n",
        "\n",
        "    layers.Flatten(),\n",
        "    layers.Dense(512, activation='relu'),\n",
        "    layers.Dense(512, activation='relu'),\n",
        "    layers.Dense(256, activation='relu'),\n",
        "    layers.Dense(100,activation='sigmoid')\n",
        "])\n",
        "\n",
        "cnn.compile(optimizer='adam',\n",
        "            loss= 'sparse_categorical_crossentropy',\n",
        "            metrics = ['accuracy'])\n",
        "cnn.fit(x_train,y_train,epochs=10)"
      ]
    },
    {
      "cell_type": "code",
      "execution_count": 32,
      "metadata": {
        "id": "O-1Klhpt0LtI",
        "outputId": "368f41b0-52c9-4c91-f98a-ca5ca6ce6dbb",
        "colab": {
          "base_uri": "https://localhost:8080/"
        }
      },
      "outputs": [
        {
          "output_type": "stream",
          "name": "stdout",
          "text": [
            "\u001b[1m313/313\u001b[0m \u001b[32m━━━━━━━━━━━━━━━━━━━━\u001b[0m\u001b[37m\u001b[0m \u001b[1m5s\u001b[0m 15ms/step\n",
            "classification report with CNN:\n",
            "               precision    recall  f1-score   support\n",
            "\n",
            "           0       0.68      0.65      0.67       100\n",
            "           1       0.56      0.48      0.52       100\n",
            "           2       0.31      0.23      0.26       100\n",
            "           3       0.22      0.24      0.23       100\n",
            "           4       0.21      0.24      0.22       100\n",
            "           5       0.30      0.41      0.35       100\n",
            "           6       0.44      0.38      0.41       100\n",
            "           7       0.45      0.43      0.44       100\n",
            "           8       0.41      0.53      0.46       100\n",
            "           9       0.49      0.44      0.46       100\n",
            "          10       0.26      0.23      0.25       100\n",
            "          11       0.19      0.18      0.19       100\n",
            "          12       0.34      0.29      0.31       100\n",
            "          13       0.31      0.43      0.36       100\n",
            "          14       0.32      0.30      0.31       100\n",
            "          15       0.21      0.27      0.24       100\n",
            "          16       0.40      0.35      0.37       100\n",
            "          17       0.39      0.56      0.46       100\n",
            "          18       0.29      0.28      0.29       100\n",
            "          19       0.25      0.31      0.28       100\n",
            "          20       0.70      0.62      0.66       100\n",
            "          21       0.43      0.62      0.51       100\n",
            "          22       0.31      0.37      0.34       100\n",
            "          23       0.48      0.46      0.47       100\n",
            "          24       0.71      0.47      0.57       100\n",
            "          25       0.24      0.25      0.25       100\n",
            "          26       0.41      0.26      0.32       100\n",
            "          27       0.24      0.19      0.21       100\n",
            "          28       0.64      0.56      0.60       100\n",
            "          29       0.30      0.37      0.33       100\n",
            "          30       0.32      0.50      0.39       100\n",
            "          31       0.33      0.31      0.32       100\n",
            "          32       0.29      0.33      0.31       100\n",
            "          33       0.36      0.35      0.35       100\n",
            "          34       0.29      0.15      0.20       100\n",
            "          35       0.17      0.16      0.17       100\n",
            "          36       0.43      0.26      0.32       100\n",
            "          37       0.21      0.30      0.25       100\n",
            "          38       0.14      0.21      0.17       100\n",
            "          39       0.42      0.47      0.44       100\n",
            "          40       0.35      0.33      0.34       100\n",
            "          41       0.77      0.53      0.63       100\n",
            "          42       0.22      0.27      0.24       100\n",
            "          43       0.34      0.44      0.39       100\n",
            "          44       0.25      0.14      0.18       100\n",
            "          45       0.25      0.10      0.14       100\n",
            "          46       0.20      0.14      0.16       100\n",
            "          47       0.54      0.53      0.54       100\n",
            "          48       0.72      0.61      0.66       100\n",
            "          49       0.50      0.36      0.42       100\n",
            "          50       0.21      0.27      0.24       100\n",
            "          51       0.30      0.39      0.34       100\n",
            "          52       0.40      0.52      0.45       100\n",
            "          53       0.59      0.68      0.63       100\n",
            "          54       0.54      0.45      0.49       100\n",
            "          55       0.08      0.06      0.07       100\n",
            "          56       0.61      0.53      0.57       100\n",
            "          57       0.34      0.36      0.35       100\n",
            "          58       0.45      0.41      0.43       100\n",
            "          59       0.28      0.34      0.30       100\n",
            "          60       0.65      0.73      0.69       100\n",
            "          61       0.58      0.26      0.36       100\n",
            "          62       0.48      0.43      0.46       100\n",
            "          63       0.34      0.31      0.33       100\n",
            "          64       0.21      0.17      0.19       100\n",
            "          65       0.16      0.12      0.14       100\n",
            "          66       0.24      0.27      0.25       100\n",
            "          67       0.34      0.25      0.29       100\n",
            "          68       0.78      0.66      0.71       100\n",
            "          69       0.53      0.60      0.56       100\n",
            "          70       0.53      0.31      0.39       100\n",
            "          71       0.58      0.53      0.55       100\n",
            "          72       0.05      0.08      0.07       100\n",
            "          73       0.27      0.40      0.32       100\n",
            "          74       0.21      0.27      0.24       100\n",
            "          75       0.55      0.67      0.60       100\n",
            "          76       0.69      0.63      0.66       100\n",
            "          77       0.18      0.11      0.14       100\n",
            "          78       0.18      0.24      0.21       100\n",
            "          79       0.39      0.33      0.36       100\n",
            "          80       0.16      0.11      0.13       100\n",
            "          81       0.33      0.38      0.35       100\n",
            "          82       0.65      0.70      0.67       100\n",
            "          83       0.30      0.29      0.30       100\n",
            "          84       0.18      0.30      0.22       100\n",
            "          85       0.51      0.55      0.53       100\n",
            "          86       0.44      0.47      0.45       100\n",
            "          87       0.36      0.38      0.37       100\n",
            "          88       0.29      0.17      0.21       100\n",
            "          89       0.35      0.48      0.41       100\n",
            "          90       0.35      0.42      0.38       100\n",
            "          91       0.61      0.40      0.48       100\n",
            "          92       0.36      0.31      0.33       100\n",
            "          93       0.23      0.18      0.20       100\n",
            "          94       0.54      0.62      0.58       100\n",
            "          95       0.53      0.28      0.37       100\n",
            "          96       0.37      0.26      0.30       100\n",
            "          97       0.24      0.41      0.30       100\n",
            "          98       0.10      0.11      0.10       100\n",
            "          99       0.35      0.28      0.31       100\n",
            "\n",
            "    accuracy                           0.36     10000\n",
            "   macro avg       0.38      0.36      0.36     10000\n",
            "weighted avg       0.38      0.36      0.36     10000\n",
            "\n"
          ]
        }
      ],
      "source": [
        "y_pred_cnn_100 = cnn.predict(x_test)\n",
        "y_pred_classes_cnn_100 =[np.argmax(element) for element in y_pred_cnn_100]\n",
        "print(\"classification report with CNN:\\n\", classification_report(y_test,y_pred_classes_cnn_100))"
      ]
    },
    {
      "cell_type": "markdown",
      "source": [
        "### note: we only get 35% accuracy using CIFAR100 dataset. next you can try image augumentation: https://towardsdatascience.com/image-augmentation-14a0aafd0498#:~:text=Image%20augmentation%20is%20a%20technique,limited%20number%20of%20data%20samples."
      ],
      "metadata": {
        "id": "3CCDC7rF0u3Z"
      }
    },
    {
      "cell_type": "markdown",
      "source": [
        "# upload your jupyter notebook in dropbox \"CIFAR 100 home work\" and add note about model perfomance"
      ],
      "metadata": {
        "id": "riV2roBY2QE_"
      }
    },
    {
      "cell_type": "code",
      "source": [
        "from tensorflow.keras.preprocessing.image import ImageDataGenerator\n",
        "# 定义数据增强的参数\n",
        "datagen = ImageDataGenerator(\n",
        "    rotation_range=15,            # 随机旋转角度范围 (0-15度)\n",
        "    width_shift_range=0.1,        # 随机水平平移范围 (比例)\n",
        "    height_shift_range=0.1,       # 随机垂直平移范围 (比例)\n",
        "    horizontal_flip=True,         # 随机水平翻转\n",
        "    zoom_range=0.1                # 随机缩放范围\n",
        ")\n"
      ],
      "metadata": {
        "id": "fOqZJwK02eV9"
      },
      "execution_count": 33,
      "outputs": []
    },
    {
      "cell_type": "code",
      "source": [
        "# 假设 x_train 已经归一化到 0-1 范围内\n",
        "datagen.fit(x_train)\n",
        "# 训练模型时使用增强数据生成器\n",
        "cnn.fit(datagen.flow(x_train, y_train, batch_size=32),\n",
        "        epochs=10,\n",
        "        validation_data=(x_test, y_test))\n"
      ],
      "metadata": {
        "colab": {
          "base_uri": "https://localhost:8080/"
        },
        "id": "U8jCcvutV4kT",
        "outputId": "a99e2cba-a7de-4d5d-fff7-e5798755a2bc"
      },
      "execution_count": null,
      "outputs": [
        {
          "output_type": "stream",
          "name": "stdout",
          "text": [
            "Epoch 1/10\n"
          ]
        },
        {
          "output_type": "stream",
          "name": "stderr",
          "text": [
            "/usr/local/lib/python3.11/dist-packages/keras/src/trainers/data_adapters/py_dataset_adapter.py:121: UserWarning: Your `PyDataset` class should call `super().__init__(**kwargs)` in its constructor. `**kwargs` can include `workers`, `use_multiprocessing`, `max_queue_size`. Do not pass these arguments to `fit()`, as they will be ignored.\n",
            "  self._warn_if_super_not_called()\n"
          ]
        },
        {
          "output_type": "stream",
          "name": "stdout",
          "text": [
            "\u001b[1m1563/1563\u001b[0m \u001b[32m━━━━━━━━━━━━━━━━━━━━\u001b[0m\u001b[37m\u001b[0m \u001b[1m123s\u001b[0m 79ms/step - accuracy: 0.3408 - loss: 2.7339 - val_accuracy: 0.3564 - val_loss: 2.6880\n",
            "Epoch 2/10\n",
            "\u001b[1m1563/1563\u001b[0m \u001b[32m━━━━━━━━━━━━━━━━━━━━\u001b[0m\u001b[37m\u001b[0m \u001b[1m122s\u001b[0m 78ms/step - accuracy: 0.3809 - loss: 2.4277 - val_accuracy: 0.3642 - val_loss: 2.6241\n",
            "Epoch 3/10\n",
            "\u001b[1m1563/1563\u001b[0m \u001b[32m━━━━━━━━━━━━━━━━━━━━\u001b[0m\u001b[37m\u001b[0m \u001b[1m123s\u001b[0m 78ms/step - accuracy: 0.3933 - loss: 2.3485 - val_accuracy: 0.3818 - val_loss: 2.5633\n",
            "Epoch 4/10\n",
            "\u001b[1m1563/1563\u001b[0m \u001b[32m━━━━━━━━━━━━━━━━━━━━\u001b[0m\u001b[37m\u001b[0m \u001b[1m122s\u001b[0m 78ms/step - accuracy: 0.4001 - loss: 2.3205 - val_accuracy: 0.3833 - val_loss: 2.5358\n",
            "Epoch 5/10\n",
            "\u001b[1m1563/1563\u001b[0m \u001b[32m━━━━━━━━━━━━━━━━━━━━\u001b[0m\u001b[37m\u001b[0m \u001b[1m120s\u001b[0m 77ms/step - accuracy: 0.4125 - loss: 2.2698 - val_accuracy: 0.3842 - val_loss: 2.5243\n",
            "Epoch 6/10\n",
            "\u001b[1m1563/1563\u001b[0m \u001b[32m━━━━━━━━━━━━━━━━━━━━\u001b[0m\u001b[37m\u001b[0m \u001b[1m119s\u001b[0m 76ms/step - accuracy: 0.4266 - loss: 2.2083 - val_accuracy: 0.3911 - val_loss: 2.4858\n",
            "Epoch 7/10\n",
            "\u001b[1m1563/1563\u001b[0m \u001b[32m━━━━━━━━━━━━━━━━━━━━\u001b[0m\u001b[37m\u001b[0m \u001b[1m119s\u001b[0m 76ms/step - accuracy: 0.4291 - loss: 2.1906 - val_accuracy: 0.4008 - val_loss: 2.4825\n",
            "Epoch 8/10\n",
            "\u001b[1m1563/1563\u001b[0m \u001b[32m━━━━━━━━━━━━━━━━━━━━\u001b[0m\u001b[37m\u001b[0m \u001b[1m119s\u001b[0m 76ms/step - accuracy: 0.4351 - loss: 2.1649 - val_accuracy: 0.3905 - val_loss: 2.5346\n",
            "Epoch 9/10\n",
            "\u001b[1m1563/1563\u001b[0m \u001b[32m━━━━━━━━━━━━━━━━━━━━\u001b[0m\u001b[37m\u001b[0m \u001b[1m148s\u001b[0m 80ms/step - accuracy: 0.4489 - loss: 2.0974 - val_accuracy: 0.4007 - val_loss: 2.5158\n",
            "Epoch 10/10\n",
            "\u001b[1m 702/1563\u001b[0m \u001b[32m━━━━━━━━\u001b[0m\u001b[37m━━━━━━━━━━━━\u001b[0m \u001b[1m1:23\u001b[0m 97ms/step - accuracy: 0.4612 - loss: 2.0615"
          ]
        }
      ]
    },
    {
      "cell_type": "code",
      "source": [
        "history = cnn.fit(datagen.flow(x_train, y_train, batch_size=32),\n",
        "                  epochs=10,\n",
        "                  validation_data=(x_test, y_test))\n",
        "\n",
        "# 绘制训练和验证准确率\n",
        "plt.plot(history.history['accuracy'], label='Train Accuracy')\n",
        "plt.plot(history.history['val_accuracy'], label='Validation Accuracy')\n",
        "plt.title('Model Accuracy')\n",
        "plt.xlabel('Epoch')\n",
        "plt.ylabel('Accuracy')\n",
        "plt.legend()\n",
        "plt.show()\n",
        "\n",
        "# 绘制训练和验证损失\n",
        "plt.plot(history.history['loss'], label='Train Loss')\n",
        "plt.plot(history.history['val_loss'], label='Validation Loss')\n",
        "plt.title('Model Loss')\n",
        "plt.xlabel('Epoch')\n",
        "plt.ylabel('Loss')\n",
        "plt.legend()\n",
        "plt.show()\n"
      ],
      "metadata": {
        "id": "GRS1zzWTV_lJ"
      },
      "execution_count": null,
      "outputs": []
    },
    {
      "cell_type": "code",
      "source": [
        "from sklearn.metrics import classification_report\n",
        "import numpy as np\n",
        "\n",
        "# 对测试集进行预测\n",
        "y_pred = cnn.predict(x_test)\n",
        "# 将预测的概率分布转换为类别标签\n",
        "y_pred_classes = np.argmax(y_pred, axis=1)\n",
        "# 如果 y_test 是二维数组，需要将其 reshape 成一维\n",
        "y_test_1d = y_test.reshape(-1)\n",
        "\n",
        "# 打印分类报告\n",
        "print(\"Classification Report:\\n\", classification_report(y_test_1d, y_pred_classes))\n"
      ],
      "metadata": {
        "id": "c3fJFHztaSVb"
      },
      "execution_count": null,
      "outputs": []
    }
  ],
  "metadata": {
    "colab": {
      "provenance": [],
      "include_colab_link": true
    },
    "kernelspec": {
      "display_name": "Python 3 (ipykernel)",
      "language": "python",
      "name": "python3"
    },
    "language_info": {
      "codemirror_mode": {
        "name": "ipython",
        "version": 3
      },
      "file_extension": ".py",
      "mimetype": "text/x-python",
      "name": "python",
      "nbconvert_exporter": "python",
      "pygments_lexer": "ipython3",
      "version": "3.9.12"
    }
  },
  "nbformat": 4,
  "nbformat_minor": 0
}