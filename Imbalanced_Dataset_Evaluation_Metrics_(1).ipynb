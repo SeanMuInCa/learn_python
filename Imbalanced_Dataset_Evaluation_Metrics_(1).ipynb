{
  "cells": [
    {
      "cell_type": "markdown",
      "metadata": {
        "id": "view-in-github",
        "colab_type": "text"
      },
      "source": [
        "<a href=\"https://colab.research.google.com/github/SeanMuInCa/learn_python/blob/master/Imbalanced_Dataset_Evaluation_Metrics_(1).ipynb\" target=\"_parent\"><img src=\"https://colab.research.google.com/assets/colab-badge.svg\" alt=\"Open In Colab\"/></a>"
      ]
    },
    {
      "cell_type": "markdown",
      "metadata": {
        "id": "O-327zl0JKTY"
      },
      "source": [
        "# Handle Imbalanced dataset and Evaluation metrics of classifier"
      ]
    },
    {
      "cell_type": "markdown",
      "source": [
        "## 1. DataSet Introduction\n",
        "\n"
      ],
      "metadata": {
        "id": "t4nQw2vdS9p0"
      }
    },
    {
      "cell_type": "markdown",
      "source": [
        "### Dataset\n",
        "Credit card fraud Detection: Credit card fraud is a wide-ranging term for theft and fraud committed using or involving a payment card, such as a credit card or debit card, as a fraudulent source of funds in a transaction.\n",
        "\n",
        "The dataset has 1010 rows and 31 columns, including:\n",
        "\n",
        "*   V1-V28: Anonymized numerical features\n",
        "*   Amount: Transaction amount\n",
        "*   Class: Target variable (0 = normal, 1 = fraud)\n",
        "\n",
        "The dataset is highly imbalanced:\n",
        "\n",
        "\n",
        "*   1002 normal transactions (Class 0)\n",
        "*   8 fraudulent transactions (Class 1)\n",
        "\n",
        "\n",
        "\n",
        "\n",
        "\n",
        "\n",
        "\n",
        "\n"
      ],
      "metadata": {
        "id": "VD57XkyGTRZV"
      }
    },
    {
      "cell_type": "markdown",
      "source": [
        "## Handle Imbalanced dataset\n",
        "\n",
        "1.   Resampling Techniques\n",
        "2.   Use Class Weights in ML Models"
      ],
      "metadata": {
        "id": "nbuDb6ODnR6r"
      }
    },
    {
      "cell_type": "code",
      "source": [
        "import pandas as pd\n",
        "import matplotlib.pyplot as plt\n",
        "import seaborn as sns\n",
        "\n",
        "# Load the dataset\n",
        "df = pd.read_csv(\"creditcard-test.csv\")"
      ],
      "metadata": {
        "id": "mY1WYhEsZFci"
      },
      "execution_count": null,
      "outputs": []
    },
    {
      "cell_type": "markdown",
      "source": [
        "### 1. Check class distribution"
      ],
      "metadata": {
        "id": "mIwI9Zr1cWw-"
      }
    },
    {
      "cell_type": "code",
      "source": [
        "df_majority = df[df.Class == 0]\n",
        "df_minority = df[df.Class == 1]\n",
        "print(f\"Number of Fraud (minority): {df_minority.shape[0]}\")\n",
        "print(f\"Number of Non-Fraud (majority): {df_majority.shape[0]}\")"
      ],
      "metadata": {
        "colab": {
          "base_uri": "https://localhost:8080/"
        },
        "id": "IZuNmQjIccod",
        "outputId": "e71dab00-1fc7-4363-8c05-176894ea56ce"
      },
      "execution_count": null,
      "outputs": [
        {
          "output_type": "stream",
          "name": "stdout",
          "text": [
            "Number of Fraud (minority): 8\n",
            "Number of Non-Fraud (majority): 1002\n"
          ]
        }
      ]
    },
    {
      "cell_type": "code",
      "source": [
        "# Original class distribution\n",
        "class_counts = df['Class'].value_counts()\n",
        "\n",
        "# Plot bar chart\n",
        "plt.figure(figsize=(6,4))\n",
        "sns.barplot(x=class_counts.index, y=class_counts.values)\n",
        "plt.xticks([0, 1], ['Non-Fraud (0)', 'Fraud (1)'])\n",
        "plt.ylabel('Number of Transactions')\n",
        "plt.xlabel('Class')\n",
        "plt.title('Number of Fraud vs Non-Fraud Cases')\n",
        "plt.show()\n"
      ],
      "metadata": {
        "colab": {
          "base_uri": "https://localhost:8080/"
        },
        "id": "s0eKCFO2ZANu",
        "outputId": "c4b994ae-1150-4274-871e-5ee438a10d2a"
      },
      "execution_count": null,
      "outputs": [
        {
          "output_type": "display_data",
          "data": {
            "text/plain": [
              "<Figure size 600x400 with 1 Axes>"
            ],
            "image/png": "[encoded data removed]"
          },
          "metadata": {}
        }
      ]
    },
    {
      "cell_type": "markdown",
      "source": [
        "### 2.Resampling Techniques\n",
        "\n",
        "\n",
        "*   Oversampling the Minority Class\n",
        "*   Undersampling the Majority Class\n",
        "*   Adjust Decision Threshold\n",
        "\n"
      ],
      "metadata": {
        "id": "nfKEZ4-rcp1j"
      }
    },
    {
      "cell_type": "code",
      "source": [
        "from sklearn.utils import resample\n",
        "\n",
        "# Separate majority and minority classes\n",
        "df_majority = df[df.Class == 0]\n",
        "df_minority = df[df.Class == 1]\n",
        "\n",
        "# Oversample minority class\n",
        "df_minority_oversampled = resample(df_minority,\n",
        "                                   replace=True,\n",
        "                                   n_samples=1002,  # Match majority class\n",
        "                                   random_state=42)\n",
        "\n",
        "# Combine majority class with oversampled minority class\n",
        "df_balanced = pd.concat([df_majority, df_minority_oversampled])\n",
        "\n",
        "# Check new class distribution\n",
        "print(df_balanced['Class'].value_counts())\n"
      ],
      "metadata": {
        "colab": {
          "base_uri": "https://localhost:8080/"
        },
        "id": "yaJtpZ2TYppC",
        "outputId": "88e94df8-87d1-4288-c2b8-3a180ab285d0"
      },
      "execution_count": null,
      "outputs": [
        {
          "output_type": "stream",
          "name": "stdout",
          "text": [
            "Class\n",
            "0    1002\n",
            "1    1002\n",
            "Name: count, dtype: int64\n"
          ]
        }
      ]
    },
    {
      "cell_type": "code",
      "source": [
        "# Original class distribution\n",
        "class_counts = df_balanced['Class'].value_counts()\n",
        "\n",
        "# Plot bar chart\n",
        "plt.figure(figsize=(6,4))\n",
        "sns.barplot(x=class_counts.index, y=class_counts.values)\n",
        "plt.xticks([0, 1], ['Non-Fraud (0)', 'Fraud (1)'])\n",
        "plt.ylabel('Number of Transactions')\n",
        "plt.xlabel('Class')\n",
        "plt.title('Number of Fraud vs Non-Fraud Cases')\n",
        "plt.show()"
      ],
      "metadata": {
        "colab": {
          "base_uri": "https://localhost:8080/"
        },
        "id": "l7J8puddx2jH",
        "outputId": "969857d9-b7d6-42eb-fe5c-06714981f9ac"
      },
      "execution_count": null,
      "outputs": [
        {
          "output_type": "display_data",
          "data": {
            "text/plain": [
              "<Figure size 600x400 with 1 Axes>"
            ],
            "image/png": "[encoded data removed]"
          },
          "metadata": {}
        }
      ]
    },
    {
      "cell_type": "code",
      "source": [
        "# Undersample majority class\n",
        "df_majority_undersampled = resample(df_majority,\n",
        "                                    replace=False,   # Sample without replacement\n",
        "                                    n_samples=len(df_minority),  # Match minority class count\n",
        "                                    random_state=42)\n",
        "\n",
        "# Combine undersampled majority class with minority class\n",
        "df_undersampled = pd.concat([df_majority_undersampled, df_minority])\n",
        "\n",
        "# Original class distribution\n",
        "class_counts = df_undersampled['Class'].value_counts()\n",
        "\n",
        "# Plot bar chart\n",
        "plt.figure(figsize=(6,4))\n",
        "sns.barplot(x=class_counts.index, y=class_counts.values)\n",
        "plt.xticks([0, 1], ['Non-Fraud (0)', 'Fraud (1)'])\n",
        "plt.ylabel('Number of Transactions')\n",
        "plt.xlabel('Class')\n",
        "plt.title('Number of Fraud vs Non-Fraud Cases')\n",
        "plt.show()"
      ],
      "metadata": {
        "colab": {
          "base_uri": "https://localhost:8080/"
        },
        "id": "1W-FfSKYzQ36",
        "outputId": "a62eac2e-8ed2-489f-cdb0-84218ec08fe5"
      },
      "execution_count": null,
      "outputs": [
        {
          "output_type": "display_data",
          "data": {
            "text/plain": [
              "<Figure size 600x400 with 1 Axes>"
            ],
            "image/png": "[encoded data removed]"
          },
          "metadata": {}
        }
      ]
    },
    {
      "cell_type": "markdown",
      "source": [
        "### 3.Use Class Weights in ML Models"
      ],
      "metadata": {
        "id": "y19URW6YUl_a"
      }
    },
    {
      "cell_type": "markdown",
      "source": [
        "ML Models provide class weight attritube to handle imbalance dataset. The below are examples for:\n",
        "\n",
        "\n",
        "*   Logistic Regression ML model\n",
        "*   Random Forest ML model\n",
        "\n"
      ],
      "metadata": {
        "id": "Ivz6SlE_1rsq"
      }
    },
    {
      "cell_type": "markdown",
      "source": [
        "3.1 Logistic Regression with Class Weight"
      ],
      "metadata": {
        "id": "GAUqwxjgU36w"
      }
    },
    {
      "cell_type": "code",
      "source": [
        "from sklearn.linear_model import LogisticRegression\n",
        "from sklearn.model_selection import train_test_split\n",
        "from sklearn.metrics import classification_report\n",
        "\n",
        "# Define features and target variable\n",
        "X = df.drop(columns=['Class'])  # Features (all except 'Class')\n",
        "y = df['Class']  # Target variable (0 = Non-Fraud, 1 = Fraud)\n",
        "\n",
        "# Split dataset into training and testing sets (80% train, 20% test)\n",
        "X_train, X_test, y_train, y_test = train_test_split(X, y, test_size=0.2, random_state=42, stratify=y)\n",
        "\n",
        "# Train Logistic Regression with class_weight='balanced'\n",
        "logreg_model = LogisticRegression(class_weight='balanced', max_iter=1000, random_state=42)\n",
        "logreg_model.fit(X_train, y_train)\n",
        "\n",
        "# Make predictions\n",
        "y_pred = logreg_model.predict(X_test)\n",
        "\n",
        "# Print classification report\n",
        "print(classification_report(y_test, y_pred))\n"
      ],
      "metadata": {
        "colab": {
          "base_uri": "https://localhost:8080/"
        },
        "id": "o41n1M_jUThQ",
        "outputId": "9be352aa-50c0-489d-eedc-b7f7aa179bb4"
      },
      "execution_count": null,
      "outputs": [
        {
          "output_type": "stream",
          "name": "stdout",
          "text": [
            "              precision    recall  f1-score   support\n",
            "\n",
            "           0       0.99      0.99      0.99       200\n",
            "           1       0.50      0.50      0.50         2\n",
            "\n",
            "    accuracy                           0.99       202\n",
            "   macro avg       0.75      0.75      0.75       202\n",
            "weighted avg       0.99      0.99      0.99       202\n",
            "\n"
          ]
        }
      ]
    },
    {
      "cell_type": "markdown",
      "source": [
        "3.2 Random Forest with Class Weight"
      ],
      "metadata": {
        "id": "7Z6eeL3GU7v7"
      }
    },
    {
      "cell_type": "code",
      "source": [
        "from sklearn.ensemble import RandomForestClassifier\n",
        "from sklearn.model_selection import train_test_split\n",
        "from sklearn.metrics import classification_report\n",
        "\n",
        "# Define features and target\n",
        "X = df.drop(columns=['Class'])\n",
        "y = df['Class']\n",
        "\n",
        "# Split dataset into training and testing sets\n",
        "X_train, X_test, y_train, y_test = train_test_split(X, y, test_size=0.2, random_state=42, stratify=y)\n",
        "\n",
        "# Train Random Forest with class_weight='balanced'\n",
        "rf_model = RandomForestClassifier(n_estimators=100, class_weight='balanced', random_state=42)\n",
        "rf_model.fit(X_train, y_train)\n",
        "\n",
        "# Make predictions\n",
        "y_pred = rf_model.predict(X_test)\n",
        "\n",
        "# Print classification report\n",
        "print(classification_report(y_test, y_pred))\n"
      ],
      "metadata": {
        "colab": {
          "base_uri": "https://localhost:8080/"
        },
        "id": "BQSGhB5_U-b2",
        "outputId": "65d4f494-f3f2-46a8-eb3a-ddbce476dc3e"
      },
      "execution_count": null,
      "outputs": [
        {
          "output_type": "stream",
          "name": "stdout",
          "text": [
            "              precision    recall  f1-score   support\n",
            "\n",
            "           0       1.00      1.00      1.00       200\n",
            "           1       1.00      0.50      0.67         2\n",
            "\n",
            "    accuracy                           1.00       202\n",
            "   macro avg       1.00      0.75      0.83       202\n",
            "weighted avg       1.00      1.00      0.99       202\n",
            "\n"
          ]
        }
      ]
    },
    {
      "cell_type": "markdown",
      "source": [
        "### 4. Adjust Decision Threshold\n",
        "Adjusting the decision threshold can help improve fraud detection by balancing precision and recall. By default, a classifier predicts 1 (fraud) if the probability is ≥ 0.5. However, in imbalanced datasets, lowering the threshold can help catch more fraud cases."
      ],
      "metadata": {
        "id": "fUuEuQkFVEE3"
      }
    },
    {
      "cell_type": "code",
      "source": [
        "from sklearn.metrics import precision_recall_curve\n",
        "import numpy as np\n",
        "\n",
        "# Train Logistic Regression with class_weight='balanced'\n",
        "logreg_model = LogisticRegression(class_weight='balanced', max_iter=1000, random_state=42)\n",
        "logreg_model.fit(X_train, y_train)\n",
        "\n",
        "# Predict probabilities\n",
        "y_scores = logreg_model.predict_proba(X_test)[:, 1]  # Get fraud probabilities\n",
        "\n",
        "# Find the best threshold using Precision-Recall Curve\n",
        "precision, recall, thresholds = precision_recall_curve(y_test, y_scores)\n",
        "f1_scores = 2 * (precision * recall) / (precision + recall)  # Compute F1 scores\n",
        "optimal_threshold = thresholds[np.argmax(f1_scores)]  # Best threshold\n",
        "\n",
        "print(f\"Optimal Decision Threshold: {optimal_threshold:.2f}\")\n",
        "\n",
        "# Apply the new threshold\n",
        "y_pred_adjusted = (y_scores >= optimal_threshold).astype(int)\n",
        "\n",
        "# Print classification report\n",
        "print(classification_report(y_test, y_pred_adjusted))"
      ],
      "metadata": {
        "colab": {
          "base_uri": "https://localhost:8080/"
        },
        "id": "PETWPzVHVHVX",
        "outputId": "8be4e633-0077-4174-aabe-cbf10072083c"
      },
      "execution_count": null,
      "outputs": [
        {
          "output_type": "stream",
          "name": "stdout",
          "text": [
            "Optimal Decision Threshold: 1.00\n",
            "              precision    recall  f1-score   support\n",
            "\n",
            "           0       1.00      1.00      1.00       200\n",
            "           1       1.00      0.50      0.67         2\n",
            "\n",
            "    accuracy                           1.00       202\n",
            "   macro avg       1.00      0.75      0.83       202\n",
            "weighted avg       1.00      1.00      0.99       202\n",
            "\n"
          ]
        }
      ]
    },
    {
      "cell_type": "markdown",
      "source": [
        "### 5. Use Anomaly Detection (for Extremely Imbalanced Data)"
      ],
      "metadata": {
        "id": "dNb9oc8aVcO1"
      }
    },
    {
      "cell_type": "markdown",
      "source": [
        "Anomaly detection is useful for fraud detection in highly imbalanced datasets. Instead of classifying transactions directly, it treats fraud cases as outliers.\n",
        "\n",
        "The Isolation Forest and One-Class SVM are common anomaly detection techniques. Below, I'll use Isolation Forest to detect fraud in the creditcard-danh.csv dataset."
      ],
      "metadata": {
        "id": "3I8IOoI2Vkb5"
      }
    },
    {
      "cell_type": "code",
      "source": [
        "from sklearn.ensemble import IsolationForest\n",
        "\n",
        "# Train Isolation Forest\n",
        "iso_forest = IsolationForest(contamination=0.001, random_state=42)  # Adjust contamination level based on fraud ratio\n",
        "iso_forest.fit(X)\n",
        "\n",
        "# Predict anomalies (-1 = anomaly, 1 = normal)\n",
        "y_pred_iso = iso_forest.predict(X)\n",
        "\n",
        "# Convert Isolation Forest predictions to match the dataset (anomalies = fraud)\n",
        "y_pred_iso = np.where(y_pred_iso == -1, 1, 0)\n",
        "\n",
        "# Print classification report\n",
        "print(classification_report(y, y_pred_iso))\n"
      ],
      "metadata": {
        "colab": {
          "base_uri": "https://localhost:8080/"
        },
        "id": "BAY92a1XVfPm",
        "outputId": "09cff352-4796-4011-c8b4-48acdad66c66"
      },
      "execution_count": null,
      "outputs": [
        {
          "output_type": "stream",
          "name": "stdout",
          "text": [
            "              precision    recall  f1-score   support\n",
            "\n",
            "           0       0.99      1.00      1.00      1002\n",
            "           1       0.50      0.12      0.20         8\n",
            "\n",
            "    accuracy                           0.99      1010\n",
            "   macro avg       0.75      0.56      0.60      1010\n",
            "weighted avg       0.99      0.99      0.99      1010\n",
            "\n"
          ]
        }
      ]
    },
    {
      "cell_type": "markdown",
      "source": [
        "## Evaluation metrics of classifier\n",
        "Each metric has its own use case. For example:\n",
        "\n",
        "*   Accuracy for balanced datasets. (Measures the proportion of correctly classified instances out of the total instances)\n",
        "*   F1-score for imbalanced datasets. (Balances precision and recall.)\n",
        "*   ROC-AUC for ranking classifiers. (trade-off between sensitivity and specificity)\n",
        "*   Log Loss for probabilistic predictions. (Used in probabilistic classifiers like logistic regression.)"
      ],
      "metadata": {
        "id": "6YH5zIEUpPtR"
      }
    },
    {
      "cell_type": "code",
      "source": [
        "from sklearn.metrics import (\n",
        "    accuracy_score, precision_score, recall_score, f1_score, roc_auc_score,\n",
        "    confusion_matrix, log_loss, matthews_corrcoef, cohen_kappa_score,\n",
        "    balanced_accuracy_score\n",
        ")\n",
        "\n",
        "# Separate features and target\n",
        "X = df.drop(columns=[\"Class\"])\n",
        "y = df[\"Class\"]\n",
        "\n",
        "# Split into train (80%) and test (20%)\n",
        "X_train, X_test, y_train, y_test = train_test_split(X, y, test_size=0.2, random_state=42, stratify=y)\n",
        "# Train Random Forest model\n",
        "rf_model = RandomForestClassifier(n_estimators=100, random_state=42, class_weight=\"balanced\")\n",
        "rf_model.fit(X_train, y_train)\n",
        "# Make predictions\n",
        "y_pred = rf_model.predict(X_test)\n",
        "y_prob = rf_model.predict_proba(X_test)[:, 1]\n",
        "\n",
        "# Compute all evaluation metrics\n",
        "accuracy = accuracy_score(y_test, y_pred)\n",
        "precision = precision_score(y_test, y_pred, zero_division=0)\n",
        "recall = recall_score(y_test, y_pred)\n",
        "f1 = f1_score(y_test, y_pred)\n",
        "roc_auc = roc_auc_score(y_test, y_prob)\n",
        "logloss = log_loss(y_test, y_prob)\n",
        "mcc = matthews_corrcoef(y_test, y_pred)\n",
        "cohen_kappa = cohen_kappa_score(y_test, y_pred)\n",
        "balanced_acc = balanced_accuracy_score(y_test, y_pred)\n",
        "# Compute specificity (true negative rate)\n",
        "tn, fp, fn, tp = confusion_matrix(y_test, y_pred).ravel()\n",
        "specificity = tn / (tn + fp) if (tn + fp) > 0 else 0\n",
        "g_mean = np.sqrt(recall * specificity)\n",
        "\n",
        "# Store results\n",
        "evaluation_results = {\n",
        "    \"Accuracy\": accuracy,\n",
        "    \"Precision\": precision,\n",
        "    \"Recall\": recall,\n",
        "    \"F1-Score\": f1,\n",
        "    \"ROC-AUC\": roc_auc,\n",
        "    \"Log Loss\": logloss,\n",
        "    \"Matthews Corr. Coeff (MCC)\": mcc,\n",
        "    \"Cohen’s Kappa\": cohen_kappa,\n",
        "    \"Balanced Accuracy\": balanced_acc,\n",
        "    \"Specificity\": specificity,\n",
        "    \"G-Mean\": g_mean\n",
        "}\n",
        "\n",
        "for metric, value in evaluation_results.items():\n",
        "    print(f\"{metric}: {value:.4f}\")\n"
      ],
      "metadata": {
        "id": "5tyjP01_VssF",
        "colab": {
          "base_uri": "https://localhost:8080/"
        },
        "outputId": "eaa4ecf7-02c3-46ba-b3ba-94d0ec299031"
      },
      "execution_count": null,
      "outputs": [
        {
          "output_type": "stream",
          "name": "stdout",
          "text": [
            "Accuracy: 0.9950\n",
            "Precision: 1.0000\n",
            "Recall: 0.5000\n",
            "F1-Score: 0.6667\n",
            "ROC-AUC: 0.7387\n",
            "Log Loss: 0.1797\n",
            "Matthews Corr. Coeff (MCC): 0.7053\n",
            "Cohen’s Kappa: 0.6645\n",
            "Balanced Accuracy: 0.7500\n",
            "Specificity: 1.0000\n",
            "G-Mean: 0.7071\n"
          ]
        }
      ]
    }
  ],
  "metadata": {
    "kernelspec": {
      "display_name": "Python 3",
      "language": "python",
      "name": "python3"
    },
    "language_info": {
      "codemirror_mode": {
        "name": "ipython",
        "version": 3
      },
      "file_extension": ".py",
      "mimetype": "text/x-python",
      "name": "python",
      "nbconvert_exporter": "python",
      "pygments_lexer": "ipython3",
      "version": "3.6.1"
    },
    "colab": {
      "provenance": [],
      "collapsed_sections": [
        "t4nQw2vdS9p0"
      ],
      "include_colab_link": true
    }
  },
  "nbformat": 4,
  "nbformat_minor": 0
}