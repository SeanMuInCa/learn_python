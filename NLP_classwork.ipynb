{
  "nbformat": 4,
  "nbformat_minor": 0,
  "metadata": {
    "colab": {
      "provenance": [],
      "authorship_tag": "ABX9TyPyQ4Q+hQxrYulI9a7RR0fs",
      "include_colab_link": true
    },
    "kernelspec": {
      "name": "python3",
      "display_name": "Python 3"
    },
    "language_info": {
      "name": "python"
    }
  },
  "cells": [
    {
      "cell_type": "markdown",
      "metadata": {
        "id": "view-in-github",
        "colab_type": "text"
      },
      "source": [
        "<a href=\"https://colab.research.google.com/github/SeanMuInCa/learn_python/blob/master/NLP_classwork.ipynb\" target=\"_parent\"><img src=\"https://colab.research.google.com/assets/colab-badge.svg\" alt=\"Open In Colab\"/></a>"
      ]
    },
    {
      "cell_type": "code",
      "execution_count": null,
      "metadata": {
        "id": "33DJ61PYlGBB"
      },
      "outputs": [],
      "source": [
        "import spacy\n",
        "import pandas as pd\n",
        "import string\n",
        "from sklearn.feature_extraction.text import TfidfVectorizer\n",
        "from sklearn.ensemble import RandomForestClassifier\n",
        "from sklearn.model_selection import train_test_split\n",
        "from sklearn.metrics import accuracy_score\n",
        "\n",
        "\n",
        "nlp = spacy.load(\"en_core_web_sm\")\n",
        "\n",
        "# Function for text preprocessing using spaCy because also use spacy in my capstone project\n",
        "def preprocess_text_spacy(text):\n",
        "    doc = nlp(text.lower())  # Convert to lowercase\n",
        "    words = [token.lemma_ for token in doc if token.is_alpha and not token.is_stop]  # Lemmatization remove stop words\n",
        "    return \" \".join(words)\n",
        "\n",
        "# Load dataset part of data, too large\n",
        "df = pd.read_csv(\"Ecommerce_data.csv\", encoding=\"ISO-8859-1\",nrows=1000)\n",
        "df[\"processed_text\"] = df[\"Text\"].apply(preprocess_text_spacy)\n",
        "\n",
        "# Convert text to numerical features using TF-IDF\n",
        "vectorizer = TfidfVectorizer(max_features=500)  # Extract top 500 most important words\n",
        "X_text = vectorizer.fit_transform(df[\"processed_text\"]).toarray()\n",
        "y = df[\"label\"]  # Target variable\n",
        "\n",
        "# Split dataset into training and testing sets\n",
        "X_train, X_test, y_train, y_test = train_test_split(X_text, y, test_size=0.2, random_state=42)\n",
        "\n",
        "# Train Random Forest Classifier\n",
        "model = RandomForestClassifier(n_estimators=100, random_state=42)\n",
        "model.fit(X_train, y_train)\n",
        "\n",
        "# Predict and evaluate accuracy\n",
        "y_pred = model.predict(X_test)\n",
        "accuracy = accuracy_score(y_test, y_pred)\n",
        "\n",
        "print(f\"Model accuracy after spaCy preprocessing: {accuracy:.4f}\")"
      ]
    },
    {
      "cell_type": "code",
      "source": [
        "# Convert raw text into TF-IDF features (without preprocessing)\n",
        "vectorizer = TfidfVectorizer(max_features=500)\n",
        "raw = pd.read_csv(\"Ecommerce_data.csv\", encoding=\"ISO-8859-1\",nrows=1000)\n",
        "X_raw = vectorizer.fit_transform(raw[\"Text\"]).toarray()  # Use raw text directly\n",
        "\n",
        "# Split dataset\n",
        "X_train_raw, X_test_raw, y_train_raw, y_test_raw = train_test_split(X_raw, y, test_size=0.2, random_state=42)\n",
        "\n",
        "# Train Random Forest on raw text\n",
        "model_raw = RandomForestClassifier(n_estimators=100, random_state=42)\n",
        "model_raw.fit(X_train_raw, y_train_raw)\n",
        "\n",
        "# Predict and evaluate accuracy for raw data\n",
        "y_pred_raw = model_raw.predict(X_test_raw)\n",
        "accuracy_raw = accuracy_score(y_test_raw, y_pred_raw)\n",
        "\n",
        "# Print accuracy comparison\n",
        "print(f\"Raw text model accuracy: {accuracy_raw:.4f}\")\n",
        "print(f\"Preprocessed text model accuracy: {accuracy:.4f}\")\n",
        "\n",
        "# Calculate improvement in accuracy\n",
        "accuracy_improvement = (accuracy - accuracy_raw) / accuracy_raw * 100\n",
        "print(f\"Accuracy improvement: {accuracy_improvement:.2f}%\")"
      ],
      "metadata": {
        "id": "h2cOASfXlJ5o"
      },
      "execution_count": null,
      "outputs": []
    }
  ]
}